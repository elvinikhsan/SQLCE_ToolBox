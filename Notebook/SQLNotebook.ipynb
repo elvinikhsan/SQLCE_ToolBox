{
    "metadata": {
        "kernelspec": {
            "name": "SQL",
            "display_name": "SQL",
            "language": "sql"
        },
        "language_info": {
            "name": "sql",
            "version": ""
        }
    },
    "nbformat_minor": 2,
    "nbformat": 4,
    "cells": [
        {
            "cell_type": "markdown",
            "source": [
                "# SQL Script Collection\n",
                "\n",
                "## Overview\n",
                "\n",
                "This notebook contains custom SQL scripts and tools, as well as scripts which are collected from external sources and shared for everyone. This notebook hopefully would make it easy to find useful script during support activities. All are encouraged to share their on the job SQL scripts for diagnostic, troubleshooting and performance tuning or anything that is deemed helpful to others. Feel free to contribute and share using this notebook. \n",
                "\n",
                "## Tips\n",
                "\n",
                "-   Make sure to check for existing script with similar result returned to avoid duplication of the same script or functionality.\n",
                "-   You can use the standard CTRL + F to find keyword.\n",
                "-   If there is similar script that is doing similar function, whenever possible please try to update and enhance the existing script first.\n",
                "-   Avoid using lengthy and complex script, the simpler the better, as long as it does the job.\n",
                "-   If you do have to share a very useful but complex script, perhaps it is better to create a new sub-folder in this Teams channel files tab and create another Jupyter (SQL) Notebook for it. For example: Implementing Automatic Sliding Window Partitioning.\n",
                "-   To keep this notebook size small, before saving the file, please don't forget to clear all results (click on the **Clear Results** icon on the top right corner). \n",
                "\n",
                "Thank you!"
            ],
            "metadata": {
                "azdata_cell_guid": "3eb1a85f-cc0e-42b2-80f2-3ec5bffdc685"
            }
        },
        {
            "cell_type": "markdown",
            "source": [
                "## Scripts Collection\n",
                "\n",
                "This section contains all scripts collected/contributed.\n",
                "\n",
                "### Check SQL Services\n",
                "\n",
                "This script checks for installed SQL services, their status (eg. started, stopped), service account used and basic cluster information."
            ],
            "metadata": {
                "azdata_cell_guid": "ac1d2a71-af99-40fa-895f-94f30684890a"
            }
        },
        {
            "cell_type": "code",
            "source": [
                "USE master\r\n",
                "GO\r\n",
                "SELECT servicename, startup_type_desc, status_desc, \r\n",
                "last_startup_time, service_account, is_clustered, cluster_nodename\r\n",
                "FROM sys.dm_server_services OPTION (RECOMPILE);\r\n",
                "GO"
            ],
            "metadata": {
                "azdata_cell_guid": "5f5bc6d4-f465-4cd2-9da8-1926a5f432b4",
                "tags": []
            },
            "outputs": [],
            "execution_count": null
        },
        {
            "cell_type": "markdown",
            "source": [
                "### SQL OS Version and Server Properties\r\n",
                "Returns the version and important server properties.\r\n",
                ""
            ],
            "metadata": {
                "azdata_cell_guid": "a7d3f05b-1aea-4f4a-a930-362f763387a3"
            }
        },
        {
            "cell_type": "code",
            "source": [
                "USE master;\r\n",
                "GO\r\n",
                "SELECT @@SERVERNAME AS [Server Name], @@VERSION AS [SQL Server and OS Version Info], SERVERPROPERTY('MachineName') AS [MachineName], SERVERPROPERTY('ServerName') AS [ServerName],  \r\n",
                "SERVERPROPERTY('InstanceName') AS [Instance], SERVERPROPERTY('IsClustered') AS [IsClustered], \r\n",
                "SERVERPROPERTY('ComputerNamePhysicalNetBIOS') AS [ComputerNamePhysicalNetBIOS], \r\n",
                "SERVERPROPERTY('Edition') AS [Edition], SERVERPROPERTY('ProductLevel') AS [ProductLevel], \r\n",
                "SERVERPROPERTY('ProductVersion') AS [ProductVersion], SERVERPROPERTY('ProcessID') AS [ProcessID],\r\n",
                "SERVERPROPERTY('Collation') AS [Collation], SERVERPROPERTY('IsFullTextInstalled') AS [IsFullTextInstalled], \r\n",
                "SERVERPROPERTY('IsIntegratedSecurityOnly') AS [IsIntegratedSecurityOnly],\r\n",
                "SERVERPROPERTY('IsHadrEnabled') AS [IsHadrEnabled], SERVERPROPERTY('HadrManagerStatus') AS [HadrManagerStatus];\r\n",
                "GO\r\n",
                ""
            ],
            "metadata": {
                "azdata_cell_guid": "61ecc8e3-4189-4730-8340-6f393e212666",
                "tags": []
            },
            "outputs": [],
            "execution_count": null
        },
        {
            "cell_type": "markdown",
            "source": [
                "### SQL Server Install Date\n",
                "\n",
                "Returns when was SQL Server installed."
            ],
            "metadata": {
                "azdata_cell_guid": "4baea0c3-e8e2-4435-ae58-9d522f81cd36"
            }
        },
        {
            "cell_type": "code",
            "source": [
                "USE master\r\n",
                "GO\r\n",
                "SELECT @@SERVERNAME AS [Server Name], createdate AS [SQL Server Install Date]  \r\n",
                "FROM sys.syslogins \r\n",
                "WHERE [sid] = 0x010100000000000512000000;\r\n",
                "GO"
            ],
            "metadata": {
                "azdata_cell_guid": "757daf19-70cd-4dd3-84a5-2cc652582cf2",
                "tags": []
            },
            "outputs": [],
            "execution_count": null
        },
        {
            "cell_type": "markdown",
            "source": [
                "### SQL Server Authentication Mode\n",
                "\n",
                "Returns information on SQL authentication mode (Windows or Mixed - Windows and SQL)."
            ],
            "metadata": {
                "azdata_cell_guid": "a2fb5d0b-2882-49d1-b35a-a127353cc39a"
            }
        },
        {
            "cell_type": "code",
            "source": [
                "USE master;\r\n",
                "GO\r\n",
                "SELECT @@SERVERNAME, CASE SERVERPROPERTY('IsIntegratedSecurityOnly')   \r\n",
                "WHEN 1 THEN 'Windows Authentication'   \r\n",
                "WHEN 0 THEN 'Windows and SQL Server Authentication'   \r\n",
                "END as [Authentication Mode];\r\n",
                "GO"
            ],
            "metadata": {
                "azdata_cell_guid": "951d70ea-9d88-4dce-8557-adc6404af9aa",
                "tags": []
            },
            "outputs": [],
            "execution_count": null
        },
        {
            "cell_type": "markdown",
            "source": [
                "### Windows Information\r\n",
                "Gives you major OS version, service pack level, edition and language info for the OS."
            ],
            "metadata": {
                "azdata_cell_guid": "f55867d0-1a63-457c-89da-afcb3a0e16f2"
            }
        },
        {
            "cell_type": "code",
            "source": [
                "USE master\r\n",
                "GO\r\n",
                "SELECT windows_release, windows_service_pack_level, \r\n",
                "       windows_sku, os_language_version\r\n",
                "FROM sys.dm_os_windows_info WITH (NOLOCK) OPTION (RECOMPILE);\r\n",
                "GO"
            ],
            "metadata": {
                "azdata_cell_guid": "ae10a07f-fef8-48d0-bc3e-09e52bace56d",
                "tags": []
            },
            "outputs": [],
            "execution_count": null
        },
        {
            "cell_type": "markdown",
            "source": [
                "### SQL Server NUMA Node information\r\n",
                "Gives you some useful information about the composition and relative load on your NUMA nodes."
            ],
            "metadata": {
                "azdata_cell_guid": "5c592114-33d8-4cf6-a1df-4bf220f6416b"
            }
        },
        {
            "cell_type": "code",
            "source": [
                "USE master\r\n",
                "GO\r\n",
                "SELECT node_id, node_state_desc, memory_node_id, online_scheduler_count, \r\n",
                "       active_worker_count, avg_load_balance \r\n",
                "FROM sys.dm_os_nodes WITH (NOLOCK) \r\n",
                "WHERE node_state_desc <> N'ONLINE DAC' OPTION (RECOMPILE);\r\n",
                "GO"
            ],
            "metadata": {
                "azdata_cell_guid": "f5996483-2437-42e5-8d4b-3db9bf306132",
                "tags": []
            },
            "outputs": [],
            "execution_count": null
        },
        {
            "cell_type": "markdown",
            "source": [
                "### System/Hardware Information\r\n",
                "Gives you some good basic hardware information about your database server."
            ],
            "metadata": {
                "azdata_cell_guid": "1452cca2-b27b-449d-9f30-21b5f137c03f"
            }
        },
        {
            "cell_type": "code",
            "source": [
                "USE master\r\n",
                "GO\r\n",
                "SELECT cpu_count AS [Logical CPU Count], hyperthread_ratio AS [Hyperthread Ratio],\r\n",
                "cpu_count/hyperthread_ratio AS [Physical CPU Count], \r\n",
                "physical_memory_kb/1024 AS [Physical Memory (MB)], committed_target_kb/1024 AS [Committed Target Memory (MB)],\r\n",
                "max_workers_count AS [Max Workers Count], affinity_type_desc AS [Affinity Type], \r\n",
                "sqlserver_start_time AS [SQL Server Start Time], virtual_machine_type_desc AS [Virtual Machine Type]\r\n",
                "FROM sys.dm_os_sys_info WITH (NOLOCK) OPTION (RECOMPILE);\r\n",
                "GO"
            ],
            "metadata": {
                "azdata_cell_guid": "fc8733b3-b817-416d-9e9b-ac9003d7e345",
                "tags": []
            },
            "outputs": [],
            "execution_count": null
        },
        {
            "cell_type": "markdown",
            "source": [
                "### Available Memory\r\n",
                ""
            ],
            "metadata": {
                "azdata_cell_guid": "33c8bf06-2096-4bf0-ac9b-214e9365d0c6"
            }
        },
        {
            "cell_type": "code",
            "source": [
                "SET QUOTED_IDENTIFIER ON\r\n",
                "declare @ts bigint;\r\n",
                "SELECT @ts = ms_ticks FROM sys.dm_os_sys_info (NOLOCK);\r\n",
                "\r\n",
                "PRINT '-- AvailableRAM'\r\n",
                "SELECT \r\n",
                "\tDateadd(ms, -1 * (@ts - t1.TIMESTAMP), Getdate()) as TimeStamp,\r\n",
                "\tt1.record.value('(./Record/ResourceMonitor/Notification)[1]', 'varchar(255)') as Notification,\r\n",
                "\tt1.record.value('(./Record/MemoryRecord/TotalPhysicalMemory)[1]', 'bigint')/1024 as TotalRAMInMB, \r\n",
                "\tt1.record.value('(./Record/MemoryRecord/AvailablePhysicalMemory)[1]', 'bigint')/1024 as AvailableRAMInMb,\r\n",
                "\tt1.record.value('(./Record/MemoryRecord/AvailableVirtualAddressSpace)[1]', 'bigint')/1024 AS [Avail_VAS_MB],\r\n",
                "\tt1.record.value('(./Record/MemoryRecord/TotalPageFile)[1]', 'bigint')/1024 AS [Total_Pagefile_MB],\r\n",
                "\tt1.record.value('(./Record/MemoryRecord/AvailablePageFile)[1]', 'bigint')/1024 AS [Avail_Pagefile_MB]\r\n",
                "FROM (SELECT MAX([TIMESTAMP]) AS [TIMESTAMP], CONVERT(xml, record) AS record \r\n",
                "\tFROM sys.dm_os_ring_buffers (NOLOCK)\r\n",
                "\tWHERE ring_buffer_type = N'RING_BUFFER_RESOURCE_MONITOR'\r\n",
                "\t\t--AND record LIKE '%RESOURCE_MEMPHYSICAL%'\r\n",
                "\tGROUP BY record) AS t1\r\n",
                "\r\n",
                "Union All\r\n",
                "\r\n",
                "SELECT \r\n",
                "\tGetdate(),system_memory_state_desc,total_physical_memory_kb/1024, available_physical_memory_kb/1024, 0,total_page_file_kb / 1014,available_page_file_kb /1024\r\n",
                "FROM sys.dm_os_sys_memory\r\n",
                "order by \r\n",
                "\tTIMESTAMP"
            ],
            "metadata": {
                "azdata_cell_guid": "14cd1430-f36d-4b18-b8b3-392883666116",
                "tags": []
            },
            "outputs": [],
            "execution_count": null
        },
        {
            "cell_type": "markdown",
            "source": [
                "### Get Cluster Information\r\n",
                "You will see no results if your instance is not clustered."
            ],
            "metadata": {
                "azdata_cell_guid": "3f8f8a2c-dd39-4b54-a933-5d87513837b0"
            }
        },
        {
            "cell_type": "code",
            "source": [
                "USE master\r\n",
                "GO\r\n",
                "SELECT VerboseLogging, SqlDumperDumpFlags, SqlDumperDumpPath, \r\n",
                "       SqlDumperDumpTimeOut, FailureConditionLevel, HealthCheckTimeout\r\n",
                "FROM sys.dm_os_cluster_properties WITH (NOLOCK) OPTION (RECOMPILE);\r\n",
                "GO"
            ],
            "metadata": {
                "azdata_cell_guid": "6395285f-e2ba-4dee-92c3-a1fcf168b49e",
                "tags": []
            },
            "outputs": [],
            "execution_count": null
        },
        {
            "cell_type": "markdown",
            "source": [
                "### Cluster Nodes Information\r\n",
                "Knowing which node owns the cluster resources is critical. Especially when you are installing Windows or SQL Server updates. You will see no results if your instance is not clustered."
            ],
            "metadata": {
                "azdata_cell_guid": "dc5d0d36-1e7c-4286-9d87-4df72e8c1fc5"
            }
        },
        {
            "cell_type": "code",
            "source": [
                "USE master\r\n",
                "GO\r\n",
                "SELECT NodeName, status_description, is_current_owner\r\n",
                "FROM sys.dm_os_cluster_nodes WITH (NOLOCK) OPTION (RECOMPILE);\r\n",
                "GO"
            ],
            "metadata": {
                "azdata_cell_guid": "1cb78083-8e65-460b-bc38-c0363b43c484",
                "tags": []
            },
            "outputs": [],
            "execution_count": null
        },
        {
            "cell_type": "markdown",
            "source": [
                "### Server/Instance Configuration\r\n",
                "Returns all instance configuration settings (alternative of sp_configure)."
            ],
            "metadata": {
                "azdata_cell_guid": "35c56dfb-3804-4339-aee4-e26cc516788a"
            }
        },
        {
            "cell_type": "code",
            "source": [
                "USE master;\r\n",
                "GO\r\n",
                "SELECT * FROM sys.configurations;\r\n",
                "GO"
            ],
            "metadata": {
                "azdata_cell_guid": "93568c4e-581f-4ffa-a908-b600b5bc5cf4",
                "tags": []
            },
            "outputs": [],
            "execution_count": null
        },
        {
            "cell_type": "markdown",
            "source": [
                "### TCP End Point Listerner Information\r\n",
                "Helpful for network and connectivity troubleshooting."
            ],
            "metadata": {
                "azdata_cell_guid": "0cf28404-a88b-4aaf-8213-b49599432255"
            }
        },
        {
            "cell_type": "code",
            "source": [
                "USE master;\r\n",
                "GO\r\n",
                "SELECT listener_id, ip_address, is_ipv4, port, type_desc, state_desc, start_time\r\n",
                "FROM sys.dm_tcp_listener_states WITH (NOLOCK) OPTION (RECOMPILE);\r\n",
                "GO"
            ],
            "metadata": {
                "azdata_cell_guid": "e9c11ab7-11d8-4f0d-b007-62f5d11c928f",
                "tags": []
            },
            "outputs": [],
            "execution_count": null
        },
        {
            "cell_type": "markdown",
            "source": [
                "### SQL Server Registry\r\n",
                "This lets you safely read some SQL Server related information from the Windows Registry.\r\n",
                "\r\n",
                ""
            ],
            "metadata": {
                "azdata_cell_guid": "9eec4229-41d8-4e6e-9029-2a6df046d610"
            }
        },
        {
            "cell_type": "code",
            "source": [
                "USE master;\r\n",
                "GO\r\n",
                "SELECT registry_key, value_name, value_data\r\n",
                "FROM sys.dm_server_registry WITH (NOLOCK) OPTION (RECOMPILE);\r\n",
                "GO"
            ],
            "metadata": {
                "azdata_cell_guid": "f6ebab94-ca13-498e-a777-2cb17ab2bdf9",
                "tags": []
            },
            "outputs": [],
            "execution_count": null
        },
        {
            "cell_type": "markdown",
            "source": [
                "### Checks For Any SQL Memory Dump\r\n",
                "This will not return any rows if you have not had any memory dumps (which is a good thing)."
            ],
            "metadata": {
                "azdata_cell_guid": "3d63a9fa-00b8-4eee-a46e-1b58048ebe76"
            }
        },
        {
            "cell_type": "code",
            "source": [
                "USE master\r\n",
                "GO\r\n",
                "SELECT [filename], creation_time, size_in_bytes\r\n",
                "FROM sys.dm_server_memory_dumps WITH (NOLOCK) OPTION (RECOMPILE);\r\n",
                "GO"
            ],
            "metadata": {
                "azdata_cell_guid": "6e1ba843-efdf-41a7-af23-ce8c28a033f3",
                "tags": []
            },
            "outputs": [],
            "execution_count": null
        },
        {
            "cell_type": "markdown",
            "source": [
                "### Show Enabled Trace Flags (Global)"
            ],
            "metadata": {
                "azdata_cell_guid": "eb87406d-696c-45ff-984a-75e79b712094"
            }
        },
        {
            "cell_type": "code",
            "source": [
                "DBCC TRACESTATUS(-1)"
            ],
            "metadata": {
                "azdata_cell_guid": "2a46db15-7d0b-414e-9b75-10d0f8d8d330",
                "tags": []
            },
            "outputs": [],
            "execution_count": null
        },
        {
            "cell_type": "markdown",
            "source": [
                "### Backup History"
            ],
            "metadata": {
                "azdata_cell_guid": "8cfcf050-8e1f-4ec9-812c-52f8e677b68a"
            }
        },
        {
            "cell_type": "code",
            "source": [
                "PRINT '-- BackupHistory'\r\n",
                "\r\n",
                "SELECT \r\n",
                "    databasename = bs.database_name,\r\n",
                "    filegroupname = bf.filegroup_name,\r\n",
                "    pagesize = bf.page_size,\r\n",
                "    filenumber = bf.file_number,\r\n",
                "    backeduppagecount = bf.backed_up_page_count,\r\n",
                "    filetype = bf.file_type,\r\n",
                "    sourcefileblocksize = bf.source_file_block_size,\r\n",
                "    filesize = bf.file_size,\r\n",
                "    logicalname = bf.logical_name,\r\n",
                "    physicaldrive = bf.physical_drive,\r\n",
                "    physicalname = bf.physical_name,\r\n",
                "    state = bf.[state],\r\n",
                "    statedesc = bf.state_desc,\r\n",
                "    BackupFilebackupsize = bf.backup_size,\r\n",
                "    BackupFileisreadonly = bf.is_readonly,\r\n",
                "    ispresent = bf.is_present,\r\n",
                "    position = bs.[position],\r\n",
                "    expirationdate = bs.expiration_date,\r\n",
                "    softwarevendorid = bs.software_vendor_id,\r\n",
                "    name = bs.name,\r\n",
                "    username = bs.user_name,\r\n",
                "    databasecreationdate = bs.database_creation_date,\r\n",
                "    backupstartdate = bs.backup_start_date,\r\n",
                "    backupfinishdate = bs.backup_finish_date,\r\n",
                "    type = bs.type,\r\n",
                "    compatibilitylevel = bs.compatibility_level,\r\n",
                "    databaseversion = bs.database_version,\r\n",
                "    BackupSetbackupsize = bs.backup_size,\r\n",
                "    servername = bs.server_name,\r\n",
                "    machinename = bs.machine_name,\r\n",
                "    collationname = bs.collation_name,\r\n",
                "    ispasswordprotected = bs.is_password_protected,\r\n",
                "    recoverymodel = bs.recovery_model,\r\n",
                "    hasbulkloggeddata = bs.has_bulk_logged_data,\r\n",
                "    issnapshot = bs.is_snapshot,\r\n",
                "    BackupSetisreadonly = bs.is_readonly,\r\n",
                "    issingleuser = bs.is_single_user,\r\n",
                "    hasbackupchecksums = bs.has_backup_checksums,\r\n",
                "    isdamaged = bs.is_damaged,\r\n",
                "    beginslogchain = bs.begins_log_chain,\r\n",
                "    isforceoffline = bs.is_force_offline,\r\n",
                "    iscopyonly = bs.is_copy_only,\r\n",
                "    compressedbackupsize = bs.compressed_backup_size,\r\n",
                "    mirror = bm.mirror, \r\n",
                "\tphysical_device_name\r\n",
                "\r\n",
                "FROM\r\n",
                "    msdb..backupfile bf\r\n",
                "    JOIN msdb..backupset bs\r\n",
                "    ON bf.backup_set_id = bs.backup_set_id\r\n",
                "    JOIN msdb..backupmediafamily bm\r\n",
                "    ON bs.media_set_id = bm.media_set_id\r\n",
                "ORDER BY\r\n",
                "    backup_finish_date DESC"
            ],
            "metadata": {
                "azdata_cell_guid": "198a029a-a61e-466e-b892-1a0cc3c8ddd8",
                "tags": []
            },
            "outputs": [],
            "execution_count": null
        },
        {
            "cell_type": "markdown",
            "source": [
                "### Query Optimizer Information"
            ],
            "metadata": {
                "azdata_cell_guid": "1851e0f7-058c-489c-bb48-38aedf17423d"
            }
        },
        {
            "cell_type": "code",
            "source": [
                "PRINT '-- OptimizerInfo'\r\n",
                "SELECT  *\r\n",
                "FROM    sys.dm_exec_query_optimizer_info"
            ],
            "metadata": {
                "azdata_cell_guid": "d859f575-87e9-4b37-990c-e330a12c94d4",
                "tags": []
            },
            "outputs": [],
            "execution_count": null
        },
        {
            "cell_type": "markdown",
            "source": [
                "### Resource Governor"
            ],
            "metadata": {
                "azdata_cell_guid": "df344dc2-e991-43cc-906a-d845065bb07d"
            }
        },
        {
            "cell_type": "code",
            "source": [
                "select * from sys.dm_resource_governor_configuration\r\n",
                "select * from sys.dm_resource_governor_resource_pools\r\n",
                "select * from sys.dm_resource_governor_workload_groups\r\n",
                "\r\n",
                ""
            ],
            "metadata": {
                "azdata_cell_guid": "af67d229-ff60-4b99-8971-1f53c2c724b7",
                "tags": []
            },
            "outputs": [],
            "execution_count": null
        },
        {
            "cell_type": "markdown",
            "source": [
                "### Ring Buffer Exception Monitor\r\n",
                ""
            ],
            "metadata": {
                "azdata_cell_guid": "5d447ffe-86c0-4124-bb6f-5e6774671cfa"
            }
        },
        {
            "cell_type": "code",
            "source": [
                "SET NOCOUNT ON\r\n",
                "SET ANSI_NULLS ON\r\n",
                "SET QUOTED_IDENTIFIER ON\r\n",
                "PRINT '-- RingBufferExceptionMonitor'\r\n",
                "SELECT \r\n",
                "\t'RING_BUFFER_EXCEPTION' AS RingType, \r\n",
                "\tDATEADD(ms, -1 * ((SELECT ms_ticks FROM sys.dm_os_sys_info) - [timestamp]), GETDATE()) AS EventTime,\r\n",
                "\t*\r\n",
                "FROM (\r\n",
                "\tSELECT \r\n",
                "\t\trecord.value('(./Record/@id)[1]', 'bigint') AS record_id,\r\n",
                "\t\trecord.value('(./Record/Exception/Task/@address)[1]', 'varchar(200)') AS TaskAddress,\r\n",
                "\t\trecord.value('(./Record/Exception/Error)[1]', 'int') AS ErrorNumber,\r\n",
                "\t\trecord.value('(./Record/Exception/Severity)[1]', 'int') AS Severity,\r\n",
                "\t\trecord.value('(./Record/Exception/State)[1]', 'int') AS State,\r\n",
                "\t\trecord.value('(./Record/Exception/UserDefined)[1]', 'int') AS UserDefined,\r\n",
                "\t\ttimestamp\r\n",
                "\tFROM (\r\n",
                "\t\tSELECT timestamp, CONVERT(XML, record) AS record \r\n",
                "\t\tFROM sys.dm_os_ring_buffers \r\n",
                "\t\tWHERE ring_buffer_type = N'RING_BUFFER_EXCEPTION'\r\n",
                "\t\t) AS x\r\n",
                "\t) AS y\r\n",
                "\tJOIN sys.messages m ON y.ErrorNumber = m.message_id AND m.severity = y.severity AND language_id = 1033\r\n",
                "ORDER BY record_id DESC"
            ],
            "metadata": {
                "azdata_cell_guid": "81ea921b-d15e-4b3b-b2d0-9dd6d20d3d6c",
                "tags": []
            },
            "outputs": [],
            "execution_count": null
        },
        {
            "cell_type": "markdown",
            "source": [
                "### Ring Buffer Resource Monitor\r\n",
                ""
            ],
            "metadata": {
                "azdata_cell_guid": "0439d5ea-09fe-4ad1-89f2-f21b437e773b"
            }
        },
        {
            "cell_type": "code",
            "source": [
                "SELECT \r\n",
                "\t'RING_BUFFER_RESOURCE_MONITOR' AS RingType, \r\n",
                "\tDATEADD(ms, -1 * ((SELECT ms_ticks FROM sys.dm_os_sys_info) - [timestamp]), GETDATE()) AS EventTime,\r\n",
                "\t*\r\n",
                "FROM (\r\n",
                "\tSELECT \r\n",
                "\t\trecord.value('(./Record/@id)[1]', 'bigint') AS record_id,\r\n",
                "\t\trecord.value('(./Record/ResourceMonitor/Notification)[1]', 'varchar(100)') AS Notification,\r\n",
                "\t\trecord.value('(./Record/ResourceMonitor/IndicatorsProcess)[1]', 'bit') AS IndicatorsProcess,\r\n",
                "\t\trecord.value('(./Record/ResourceMonitor/IndicatorsSystem)[1]', 'bit') AS IndicatorsSystem,\r\n",
                "\t\trecord.value('(./Record/ResourceMonitor/NodeId)[1]', 'bigint') AS NodeId,\r\n",
                "\t\trecord.value('(./Record/ResourceMonitor/Effect/@type)[1]', 'varchar(100)') AS EffectType1,\r\n",
                "\t\trecord.value('(./Record/ResourceMonitor/Effect/@state)[1]', 'varchar(100)') AS EffectState1,\r\n",
                "\t\trecord.value('(./Record/ResourceMonitor/Effect/@reversed)[1]', 'varchar(100)') AS EffectReversed1,\r\n",
                "\t\trecord.value('(./Record/ResourceMonitor/Effect/@type)[2]', 'varchar(100)') AS EffectType2,\r\n",
                "\t\trecord.value('(./Record/ResourceMonitor/Effect/@state)[2]', 'varchar(100)') AS EffectState2,\r\n",
                "\t\trecord.value('(./Record/ResourceMonitor/Effect/@reversed)[2]', 'varchar(100)') AS EffectReversed2,\r\n",
                "\t\trecord.value('(./Record/ResourceMonitor/Effect/@type)[3]', 'varchar(100)') AS EffectType3,\r\n",
                "\t\trecord.value('(./Record/ResourceMonitor/Effect/@state)[3]', 'varchar(100)') AS EffectState3,\r\n",
                "\t\trecord.value('(./Record/ResourceMonitor/Effect/@reversed)[3]', 'varchar(100)') AS EffectReversed3,\r\n",
                "\t\trecord.value('(./Record/MemoryNode/@id)[1]', 'bigint') AS PageFaults,\r\n",
                "\t\trecord.value('(./Record/MemoryNode/ReservedMemory)[1]', 'bigint') AS ReservedMemory,\r\n",
                "\t\trecord.value('(./Record/MemoryNode/CommittedMemory)[1]', 'bigint') AS CommittedMemory,\r\n",
                "\t\trecord.value('(./Record/MemoryNode/SharedMemory)[1]', 'bigint') AS SharedMemory,\r\n",
                "\t\trecord.value('(./Record/MemoryNode/AWEMemory)[1]', 'bigint') AS AWEMemory,\r\n",
                "\t\trecord.value('(./Record/MemoryNode/SinglePagesMemory)[1]', 'bigint') AS SinglePagesMemory,\r\n",
                "\t\trecord.value('(./Record/MemoryNode/MultiplePagesMemory)[1]', 'bigint') AS MultiplePagesMemory,\r\n",
                "\t\trecord.value('(./Record/MemoryRecord/MemoryUtilization)[1]', 'bigint') AS MemoryUtilization,\r\n",
                "\t\trecord.value('(./Record/MemoryRecord/TotalPhysicalMemory)[1]', 'bigint') AS TotalPhysicalMemory,\r\n",
                "\t\trecord.value('(./Record/MemoryRecord/AvailablePhysicalMemory)[1]', 'bigint') AS AvailablePhysicalMemory,\r\n",
                "\t\trecord.value('(./Record/MemoryRecord/TotalPageFile)[1]', 'bigint') AS TotalPageFile,\r\n",
                "\t\trecord.value('(./Record/MemoryRecord/AvailablePageFile)[1]', 'bigint') AS AvailablePageFile,\r\n",
                "\t\trecord.value('(./Record/MemoryRecord/TotalVirtualAddressSpace)[1]', 'bigint') AS TotalVirtualAddressSpace,\r\n",
                "\t\trecord.value('(./Record/MemoryRecord/AvailableVirtualAddressSpace)[1]', 'bigint') AS AvailableVirtualAddressSpace,\r\n",
                "\t\trecord.value('(./Record/MemoryRecord/AvailableExtendedVirtualAddressSpace)[1]', 'bigint') AS AvailableExtendedVirtualAddressSpace,\r\n",
                "\t\ttimestamp\r\n",
                "\tFROM (\r\n",
                "\t\tSELECT timestamp, CONVERT(XML, record) AS record \r\n",
                "\t\tFROM sys.dm_os_ring_buffers \r\n",
                "\t\tWHERE ring_buffer_type = N'RING_BUFFER_RESOURCE_MONITOR'\r\n",
                "\t\t) AS x\r\n",
                "\t) AS y\r\n",
                "ORDER BY record_id DESC\r\n",
                ""
            ],
            "metadata": {
                "azdata_cell_guid": "9055124f-5220-45e4-ac4a-89a749fdd91b",
                "tags": []
            },
            "outputs": [],
            "execution_count": null
        },
        {
            "cell_type": "markdown",
            "source": [
                "### Ring Buffer Scheduler Monitor\r\n",
                ""
            ],
            "metadata": {
                "azdata_cell_guid": "ba337b70-53f6-4fb0-bd3a-ca03bf74a29e"
            }
        },
        {
            "cell_type": "code",
            "source": [
                "SET NOCOUNT ON\r\n",
                "SET ANSI_NULLS ON\r\n",
                "SET QUOTED_IDENTIFIER ON\r\n",
                "PRINT '-- RingBufferSchedulerMonitor'\r\n",
                "SELECT\r\n",
                "\t'RING_BUFFER_SCHEDULER_MONITOR' AS RingType, \r\n",
                "\tDATEADD(ms, -1 * ((SELECT ms_ticks FROM sys.dm_os_sys_info) - [timestamp]), GETDATE()) AS EventTime,\r\n",
                "\t*\r\n",
                "FROM (\r\n",
                "\tSELECT \r\n",
                "\t\trecord.value('(./Record/@id)[1]', 'bigint') AS record_id,\r\n",
                "\t\trecord.value('(./Record/SchedulerMonitorEvent/SystemHealth/SystemIdle)[1]', 'bigint') AS SystemIdle,\r\n",
                "\t\trecord.value('(./Record/SchedulerMonitorEvent/SystemHealth/ProcessUtilization)[1]', 'bigint') AS SQLProcessUtilization,\r\n",
                "\t\trecord.value('(./Record/SchedulerMonitorEvent/SystemHealth/UserModeTime)[1]', 'bigint') AS UserModeTime,\r\n",
                "\t\trecord.value('(./Record/SchedulerMonitorEvent/SystemHealth/KernelModeTime)[1]', 'bigint') AS KernelModeTime,\r\n",
                "\t\trecord.value('(./Record/SchedulerMonitorEvent/SystemHealth/PageFaults)[1]', 'bigint') AS PageFaults,\r\n",
                "\t\trecord.value('(./Record/SchedulerMonitorEvent/SystemHealth/WorkingSetDelta)[1]', 'bigint') AS WorkingSetDelta,\r\n",
                "\t\trecord.value('(./Record/SchedulerMonitorEvent/SystemHealth/MemoryUtilization)[1]', 'bigint') AS MemoryUtilPct,\r\n",
                "\t\ttimestamp\r\n",
                "\tFROM (\r\n",
                "\t\tSELECT timestamp, CONVERT(XML, record) AS record \r\n",
                "\t\tFROM sys.dm_os_ring_buffers \r\n",
                "\t\tWHERE ring_buffer_type = N'RING_BUFFER_SCHEDULER_MONITOR'\r\n",
                "\t\tAND record LIKE '%<SystemHealth>%') AS x\r\n",
                "\t) AS y\r\n",
                "ORDER BY record_id DESC"
            ],
            "metadata": {
                "azdata_cell_guid": "fa38a8c7-9083-44ec-b56a-1a4b434641f6",
                "tags": []
            },
            "outputs": [],
            "execution_count": null
        },
        {
            "cell_type": "markdown",
            "source": [
                "### Suspect Pages\r\n",
                ""
            ],
            "metadata": {
                "azdata_cell_guid": "7e1e148e-4dbd-4b4c-b624-5a7f9dc8b643"
            }
        },
        {
            "cell_type": "code",
            "source": [
                "select d.name, p.* \r\n",
                "from msdb..suspect_pages p\r\n",
                "LEFT JOIN sys.databases d on p.database_id = p.page_id"
            ],
            "metadata": {
                "azdata_cell_guid": "085ddd26-52fd-4c4a-b94a-f8fba1ccd6df",
                "tags": []
            },
            "outputs": [],
            "execution_count": null
        },
        {
            "cell_type": "markdown",
            "source": [
                "### Databases file information\n",
                "\n",
                "Things to look at:\n",
                "\n",
                "-   Are data files and log files on different drives?\n",
                "-   Is everything on the C: drive?\n",
                "-   Is TempDB on dedicated drives?\n",
                "-   Is there only one TempDB data file?\n",
                "-   Are all of the TempDB data files the same size?\n",
                "-   Are there multiple data files for user databases?"
            ],
            "metadata": {
                "azdata_cell_guid": "dca76b50-331a-4cca-b673-56cf96133eda"
            }
        },
        {
            "cell_type": "code",
            "source": [
                "USE master;\r\n",
                "GO\r\n",
                "SELECT DB_NAME([database_id])AS [Database Name], \r\n",
                "       [file_id], name, physical_name, type_desc, state_desc, \r\n",
                "       CONVERT( bigint, size/128.0) AS [Total Size in MB]\r\n",
                "FROM sys.master_files WITH (NOLOCK)\r\n",
                "WHERE [database_id] <> 32767\r\n",
                "ORDER BY DB_NAME([database_id]) OPTION (RECOMPILE);\r\n",
                "GO"
            ],
            "metadata": {
                "azdata_cell_guid": "23d7bbfc-96b0-4f07-8891-9a72a12e14a6",
                "tags": []
            },
            "outputs": [],
            "execution_count": null
        },
        {
            "cell_type": "markdown",
            "source": [
                "### Databases Storage Space Information\r\n",
                "Shows you the free space on the LUNs where you have database data or log files."
            ],
            "metadata": {
                "azdata_cell_guid": "2d944037-9613-4895-95b5-013c6477b54f"
            }
        },
        {
            "cell_type": "code",
            "source": [
                "USE master;\r\n",
                "GO\r\n",
                "SELECT DB_NAME(f.database_id) AS [DatabaseName], f.file_id, \r\n",
                "vs.volume_mount_point, vs.total_bytes, vs.available_bytes, \r\n",
                "CAST(CAST(vs.available_bytes AS FLOAT)/ CAST(vs.total_bytes AS FLOAT) AS DECIMAL(18,3)) * 100 AS [Space Free %]\r\n",
                "FROM sys.master_files AS f\r\n",
                "CROSS APPLY sys.dm_os_volume_stats(f.database_id, f.file_id) AS vs\r\n",
                "ORDER BY f.database_id OPTION (RECOMPILE);\r\n",
                "GO"
            ],
            "metadata": {
                "azdata_cell_guid": "c1de339c-2d94-4cbf-acd4-95afb7e23f31",
                "tags": []
            },
            "outputs": [],
            "execution_count": null
        },
        {
            "cell_type": "markdown",
            "source": [
                "### Database Recovery Model, Log Reuse Information and Compatibility Level\r\n",
                "Things to look at:\r\n",
                "- How many databases are on the instance?\r\n",
                "- What recovery models are they using?\r\n",
                "- What is the log reuse wait description?\r\n",
                "- How full are the transaction logs ?\r\n",
                "- What compatibility level are they on?\r\n",
                "- What is the Page Verify Option?\r\n",
                "- Make sure auto_shrink and auto_close are not enabled!\r\n",
                ""
            ],
            "metadata": {
                "azdata_cell_guid": "53a17f86-d155-4ea7-9c28-cfd0621fc2cc"
            }
        },
        {
            "cell_type": "code",
            "source": [
                "USE master;\r\n",
                "GO\r\n",
                "SELECT db.[name] AS [Database Name], db.recovery_model_desc AS [Recovery Model], \r\n",
                "db.log_reuse_wait_desc AS [Log Reuse Wait Description], \r\n",
                "ls.cntr_value AS [Log Size (KB)], lu.cntr_value AS [Log Used (KB)],\r\n",
                "CAST(CAST(lu.cntr_value AS FLOAT) / CAST(ls.cntr_value AS FLOAT)AS DECIMAL(18,2)) * 100 AS [Log Used %], \r\n",
                "db.[compatibility_level] AS [DB Compatibility Level], \r\n",
                "db.page_verify_option_desc AS [Page Verify Option], db.is_auto_create_stats_on, db.is_auto_update_stats_on,\r\n",
                "db.is_auto_update_stats_async_on, db.is_parameterization_forced, \r\n",
                "db.snapshot_isolation_state_desc, db.is_read_committed_snapshot_on,\r\n",
                "db.is_auto_close_on, db.is_auto_shrink_on, db.target_recovery_time_in_seconds\r\n",
                "FROM sys.databases AS db\r\n",
                "INNER JOIN sys.dm_os_performance_counters AS lu \r\n",
                "ON db.name = lu.instance_name\r\n",
                "INNER JOIN sys.dm_os_performance_counters AS ls \r\n",
                "ON db.name = ls.instance_name\r\n",
                "WHERE lu.counter_name LIKE N'Log File(s) Used Size (KB)%' \r\n",
                "AND ls.counter_name LIKE N'Log File(s) Size (KB)%'\r\n",
                "AND ls.cntr_value > 0 OPTION (RECOMPILE);\r\n",
                "GO"
            ],
            "metadata": {
                "azdata_cell_guid": "08e83549-2795-4b32-8827-01060b71ba77",
                "tags": []
            },
            "outputs": [],
            "execution_count": null
        },
        {
            "cell_type": "markdown",
            "source": [
                "### Database Files Average IO Stall\r\n",
                "Helps determine which database files on the entire instance have the most I/O bottlenecks. This can help you decide whether certain LUNs are overloaded and whether you might want to move some files to a different location.\r\n",
                ""
            ],
            "metadata": {
                "azdata_cell_guid": "36150998-0944-4dc6-93eb-ff3dd83ad14c"
            }
        },
        {
            "cell_type": "code",
            "source": [
                "USE master;\r\n",
                "GO\r\n",
                "SELECT DB_NAME(fs.database_id) AS [Database Name], mf.physical_name, io_stall_read_ms, num_of_reads,\r\n",
                "CAST(io_stall_read_ms/(1.0 + num_of_reads) AS NUMERIC(10,1)) AS [avg_read_stall_ms],io_stall_write_ms, \r\n",
                "num_of_writes,CAST(io_stall_write_ms/(1.0+num_of_writes) AS NUMERIC(10,1)) AS [avg_write_stall_ms],\r\n",
                "io_stall_read_ms + io_stall_write_ms AS [io_stalls], num_of_reads + num_of_writes AS [total_io],\r\n",
                "CAST((io_stall_read_ms + io_stall_write_ms)/(1.0 + num_of_reads + num_of_writes) AS NUMERIC(10,1)) \r\n",
                "AS [avg_io_stall_ms]\r\n",
                "FROM sys.dm_io_virtual_file_stats(null,null) AS fs\r\n",
                "INNER JOIN sys.master_files AS mf WITH (NOLOCK)\r\n",
                "ON fs.database_id = mf.database_id\r\n",
                "AND fs.[file_id] = mf.[file_id]\r\n",
                "ORDER BY avg_io_stall_ms DESC OPTION (RECOMPILE);\r\n",
                "GO"
            ],
            "metadata": {
                "azdata_cell_guid": "342494e9-fa4f-46e7-9a2b-bd7b6efca362",
                "tags": []
            },
            "outputs": [],
            "execution_count": null
        },
        {
            "cell_type": "markdown",
            "source": [
                "### Database CPU Stats\r\n",
                "Helps determine which database is using the most CPU resources on the instance."
            ],
            "metadata": {
                "azdata_cell_guid": "61dc9fbb-8291-4a9e-b81f-1da7e3a282e1"
            }
        },
        {
            "cell_type": "code",
            "source": [
                "USE master;\r\n",
                "GO\r\n",
                "WITH DB_CPU_Stats\r\n",
                "AS\r\n",
                "(SELECT DatabaseID, DB_Name(DatabaseID) AS [DatabaseName], SUM(total_worker_time) AS [CPU_Time_Ms]\r\n",
                " FROM sys.dm_exec_query_stats AS qs\r\n",
                " CROSS APPLY (SELECT CONVERT(int, value) AS [DatabaseID] \r\n",
                "              FROM sys.dm_exec_plan_attributes(qs.plan_handle)\r\n",
                "              WHERE attribute = N'dbid') AS F_DB\r\n",
                " GROUP BY DatabaseID)\r\n",
                "SELECT ROW_NUMBER() OVER(ORDER BY [CPU_Time_Ms] DESC) AS [row_num],\r\n",
                "       DatabaseName, [CPU_Time_Ms], \r\n",
                "       CAST([CPU_Time_Ms] * 1.0 / SUM([CPU_Time_Ms]) OVER() * 100.0 AS DECIMAL(5, 2)) AS [CPUPercent]\r\n",
                "FROM DB_CPU_Stats\r\n",
                "WHERE DatabaseID > 4 -- system databases\r\n",
                "AND DatabaseID <> 32767 -- ResourceDB\r\n",
                "ORDER BY row_num OPTION (RECOMPILE);\r\n",
                "GO\r\n",
                ""
            ],
            "metadata": {
                "azdata_cell_guid": "cc9afd0d-3125-46b8-8470-6d5c60d1d19f",
                "tags": []
            },
            "outputs": [],
            "execution_count": null
        },
        {
            "cell_type": "markdown",
            "source": [
                "### Database Memory Stats\r\n",
                "Helps determine which database is using the most memory resources on the instance."
            ],
            "metadata": {
                "azdata_cell_guid": "fdc2cd0a-7a61-40fb-ad39-83cdac7e52ce"
            }
        },
        {
            "cell_type": "code",
            "source": [
                "USE master;\r\n",
                "GO\r\n",
                "WITH DB_Memory_Usage AS (\r\n",
                "SELECT CASE database_id WHEN 32767 THEN 'ResourceDB' ELSE DB_NAME(database_id) END as [DB_Name],\r\n",
                "\t   CAST(COUNT(*)* 8/1024 AS DECIMAL(12,2)) as [Cached_MB]\r\n",
                "FROM sys.dm_os_buffer_descriptors\r\n",
                "GROUP BY db_name(database_id) ,database_id)\r\n",
                "SELECT ROW_NUMBER() OVER(ORDER BY [Cached_MB] DESC) AS [row_num], [DB_Name], [Cached_MB], CAST([Cached_MB]/SUM([Cached_MB]) OVER() * 100.0 AS DECIMAL(5,2)) AS [Percent]\r\n",
                "FROM DB_Memory_Usage\r\n",
                "ORDER BY [Cached_MB] DESC;\r\n",
                "GO"
            ],
            "metadata": {
                "azdata_cell_guid": "b6254800-d844-47b5-93fc-e83014f96d7a",
                "tags": []
            },
            "outputs": [],
            "execution_count": null
        },
        {
            "cell_type": "markdown",
            "source": [
                "### Wait Statistics\r\n",
                "[SQL Server Wait Stats - Tell me where it hurts...](https://www.sqlskills.com/blogs/paul/wait-statistics-or-please-tell-me-where-it-hurts/)"
            ],
            "metadata": {
                "azdata_cell_guid": "1753703c-2a3f-4089-9d90-7406ad6ae5e1"
            }
        },
        {
            "cell_type": "code",
            "source": [
                "USE master;\r\n",
                "GO\r\n",
                "-- Last updated October 14, 2020\r\n",
                "WITH [Waits] AS\r\n",
                "    (SELECT\r\n",
                "        [wait_type],\r\n",
                "        [wait_time_ms] / 1000.0 AS [WaitS],\r\n",
                "        ([wait_time_ms] - [signal_wait_time_ms]) / 1000.0 AS [ResourceS],\r\n",
                "        [signal_wait_time_ms] / 1000.0 AS [SignalS],\r\n",
                "        [waiting_tasks_count] AS [WaitCount],\r\n",
                "        100.0 * [wait_time_ms] / SUM ([wait_time_ms]) OVER() AS [Percentage],\r\n",
                "        ROW_NUMBER() OVER(ORDER BY [wait_time_ms] DESC) AS [RowNum]\r\n",
                "    FROM sys.dm_os_wait_stats\r\n",
                "    WHERE [wait_type] NOT IN (\r\n",
                "        -- These wait types are almost 100% never a problem and so they are\r\n",
                "        -- filtered out to avoid them skewing the results. Click on the URL\r\n",
                "        -- for more information.\r\n",
                "        N'BROKER_EVENTHANDLER', -- https://www.sqlskills.com/help/waits/BROKER_EVENTHANDLER\r\n",
                "        N'BROKER_RECEIVE_WAITFOR', -- https://www.sqlskills.com/help/waits/BROKER_RECEIVE_WAITFOR\r\n",
                "        N'BROKER_TASK_STOP', -- https://www.sqlskills.com/help/waits/BROKER_TASK_STOP\r\n",
                "        N'BROKER_TO_FLUSH', -- https://www.sqlskills.com/help/waits/BROKER_TO_FLUSH\r\n",
                "        N'BROKER_TRANSMITTER', -- https://www.sqlskills.com/help/waits/BROKER_TRANSMITTER\r\n",
                "        N'CHECKPOINT_QUEUE', -- https://www.sqlskills.com/help/waits/CHECKPOINT_QUEUE\r\n",
                "        N'CHKPT', -- https://www.sqlskills.com/help/waits/CHKPT\r\n",
                "        N'CLR_AUTO_EVENT', -- https://www.sqlskills.com/help/waits/CLR_AUTO_EVENT\r\n",
                "        N'CLR_MANUAL_EVENT', -- https://www.sqlskills.com/help/waits/CLR_MANUAL_EVENT\r\n",
                "        N'CLR_SEMAPHORE', -- https://www.sqlskills.com/help/waits/CLR_SEMAPHORE\r\n",
                " \r\n",
                "        -- Maybe comment this out if you have parallelism issues\r\n",
                "        N'CXCONSUMER', -- https://www.sqlskills.com/help/waits/CXCONSUMER\r\n",
                " \r\n",
                "        -- Maybe comment these four out if you have mirroring issues\r\n",
                "        N'DBMIRROR_DBM_EVENT', -- https://www.sqlskills.com/help/waits/DBMIRROR_DBM_EVENT\r\n",
                "        N'DBMIRROR_EVENTS_QUEUE', -- https://www.sqlskills.com/help/waits/DBMIRROR_EVENTS_QUEUE\r\n",
                "        N'DBMIRROR_WORKER_QUEUE', -- https://www.sqlskills.com/help/waits/DBMIRROR_WORKER_QUEUE\r\n",
                "        N'DBMIRRORING_CMD', -- https://www.sqlskills.com/help/waits/DBMIRRORING_CMD\r\n",
                "        N'DIRTY_PAGE_POLL', -- https://www.sqlskills.com/help/waits/DIRTY_PAGE_POLL\r\n",
                "        N'DISPATCHER_QUEUE_SEMAPHORE', -- https://www.sqlskills.com/help/waits/DISPATCHER_QUEUE_SEMAPHORE\r\n",
                "        N'EXECSYNC', -- https://www.sqlskills.com/help/waits/EXECSYNC\r\n",
                "        N'FSAGENT', -- https://www.sqlskills.com/help/waits/FSAGENT\r\n",
                "        N'FT_IFTS_SCHEDULER_IDLE_WAIT', -- https://www.sqlskills.com/help/waits/FT_IFTS_SCHEDULER_IDLE_WAIT\r\n",
                "        N'FT_IFTSHC_MUTEX', -- https://www.sqlskills.com/help/waits/FT_IFTSHC_MUTEX\r\n",
                "  \r\n",
                "       -- Maybe comment these six out if you have AG issues\r\n",
                "        N'HADR_CLUSAPI_CALL', -- https://www.sqlskills.com/help/waits/HADR_CLUSAPI_CALL\r\n",
                "        N'HADR_FILESTREAM_IOMGR_IOCOMPLETION', -- https://www.sqlskills.com/help/waits/HADR_FILESTREAM_IOMGR_IOCOMPLETION\r\n",
                "        N'HADR_LOGCAPTURE_WAIT', -- https://www.sqlskills.com/help/waits/HADR_LOGCAPTURE_WAIT\r\n",
                "        N'HADR_NOTIFICATION_DEQUEUE', -- https://www.sqlskills.com/help/waits/HADR_NOTIFICATION_DEQUEUE\r\n",
                "        N'HADR_TIMER_TASK', -- https://www.sqlskills.com/help/waits/HADR_TIMER_TASK\r\n",
                "        N'HADR_WORK_QUEUE', -- https://www.sqlskills.com/help/waits/HADR_WORK_QUEUE\r\n",
                " \r\n",
                "        N'KSOURCE_WAKEUP', -- https://www.sqlskills.com/help/waits/KSOURCE_WAKEUP\r\n",
                "        N'LAZYWRITER_SLEEP', -- https://www.sqlskills.com/help/waits/LAZYWRITER_SLEEP\r\n",
                "        N'LOGMGR_QUEUE', -- https://www.sqlskills.com/help/waits/LOGMGR_QUEUE\r\n",
                "        N'MEMORY_ALLOCATION_EXT', -- https://www.sqlskills.com/help/waits/MEMORY_ALLOCATION_EXT\r\n",
                "        N'ONDEMAND_TASK_QUEUE', -- https://www.sqlskills.com/help/waits/ONDEMAND_TASK_QUEUE\r\n",
                "        N'PARALLEL_REDO_DRAIN_WORKER', -- https://www.sqlskills.com/help/waits/PARALLEL_REDO_DRAIN_WORKER\r\n",
                "        N'PARALLEL_REDO_LOG_CACHE', -- https://www.sqlskills.com/help/waits/PARALLEL_REDO_LOG_CACHE\r\n",
                "        N'PARALLEL_REDO_TRAN_LIST', -- https://www.sqlskills.com/help/waits/PARALLEL_REDO_TRAN_LIST\r\n",
                "        N'PARALLEL_REDO_WORKER_SYNC', -- https://www.sqlskills.com/help/waits/PARALLEL_REDO_WORKER_SYNC\r\n",
                "        N'PARALLEL_REDO_WORKER_WAIT_WORK', -- https://www.sqlskills.com/help/waits/PARALLEL_REDO_WORKER_WAIT_WORK\r\n",
                "        N'PREEMPTIVE_OS_FLUSHFILEBUFFERS', -- https://www.sqlskills.com/help/waits/PREEMPTIVE_OS_FLUSHFILEBUFFERS\r\n",
                "        N'PREEMPTIVE_XE_GETTARGETSTATE', -- https://www.sqlskills.com/help/waits/PREEMPTIVE_XE_GETTARGETSTATE\r\n",
                "        N'PWAIT_ALL_COMPONENTS_INITIALIZED', -- https://www.sqlskills.com/help/waits/PWAIT_ALL_COMPONENTS_INITIALIZED\r\n",
                "        N'PWAIT_DIRECTLOGCONSUMER_GETNEXT', -- https://www.sqlskills.com/help/waits/PWAIT_DIRECTLOGCONSUMER_GETNEXT\r\n",
                "        N'QDS_PERSIST_TASK_MAIN_LOOP_SLEEP', -- https://www.sqlskills.com/help/waits/QDS_PERSIST_TASK_MAIN_LOOP_SLEEP\r\n",
                "        N'QDS_ASYNC_QUEUE', -- https://www.sqlskills.com/help/waits/QDS_ASYNC_QUEUE\r\n",
                "        N'QDS_CLEANUP_STALE_QUERIES_TASK_MAIN_LOOP_SLEEP',\r\n",
                "            -- https://www.sqlskills.com/help/waits/QDS_CLEANUP_STALE_QUERIES_TASK_MAIN_LOOP_SLEEP\r\n",
                "        N'QDS_SHUTDOWN_QUEUE', -- https://www.sqlskills.com/help/waits/QDS_SHUTDOWN_QUEUE\r\n",
                "        N'REDO_THREAD_PENDING_WORK', -- https://www.sqlskills.com/help/waits/REDO_THREAD_PENDING_WORK\r\n",
                "        N'REQUEST_FOR_DEADLOCK_SEARCH', -- https://www.sqlskills.com/help/waits/REQUEST_FOR_DEADLOCK_SEARCH\r\n",
                "        N'RESOURCE_QUEUE', -- https://www.sqlskills.com/help/waits/RESOURCE_QUEUE\r\n",
                "        N'SERVER_IDLE_CHECK', -- https://www.sqlskills.com/help/waits/SERVER_IDLE_CHECK\r\n",
                "        N'SLEEP_BPOOL_FLUSH', -- https://www.sqlskills.com/help/waits/SLEEP_BPOOL_FLUSH\r\n",
                "        N'SLEEP_DBSTARTUP', -- https://www.sqlskills.com/help/waits/SLEEP_DBSTARTUP\r\n",
                "        N'SLEEP_DCOMSTARTUP', -- https://www.sqlskills.com/help/waits/SLEEP_DCOMSTARTUP\r\n",
                "        N'SLEEP_MASTERDBREADY', -- https://www.sqlskills.com/help/waits/SLEEP_MASTERDBREADY\r\n",
                "        N'SLEEP_MASTERMDREADY', -- https://www.sqlskills.com/help/waits/SLEEP_MASTERMDREADY\r\n",
                "        N'SLEEP_MASTERUPGRADED', -- https://www.sqlskills.com/help/waits/SLEEP_MASTERUPGRADED\r\n",
                "        N'SLEEP_MSDBSTARTUP', -- https://www.sqlskills.com/help/waits/SLEEP_MSDBSTARTUP\r\n",
                "        N'SLEEP_SYSTEMTASK', -- https://www.sqlskills.com/help/waits/SLEEP_SYSTEMTASK\r\n",
                "        N'SLEEP_TASK', -- https://www.sqlskills.com/help/waits/SLEEP_TASK\r\n",
                "        N'SLEEP_TEMPDBSTARTUP', -- https://www.sqlskills.com/help/waits/SLEEP_TEMPDBSTARTUP\r\n",
                "        N'SNI_HTTP_ACCEPT', -- https://www.sqlskills.com/help/waits/SNI_HTTP_ACCEPT\r\n",
                "        N'SOS_WORK_DISPATCHER', -- https://www.sqlskills.com/help/waits/SOS_WORK_DISPATCHER\r\n",
                "        N'SP_SERVER_DIAGNOSTICS_SLEEP', -- https://www.sqlskills.com/help/waits/SP_SERVER_DIAGNOSTICS_SLEEP\r\n",
                "        N'SQLTRACE_BUFFER_FLUSH', -- https://www.sqlskills.com/help/waits/SQLTRACE_BUFFER_FLUSH\r\n",
                "        N'SQLTRACE_INCREMENTAL_FLUSH_SLEEP', -- https://www.sqlskills.com/help/waits/SQLTRACE_INCREMENTAL_FLUSH_SLEEP\r\n",
                "        N'SQLTRACE_WAIT_ENTRIES', -- https://www.sqlskills.com/help/waits/SQLTRACE_WAIT_ENTRIES\r\n",
                "        N'VDI_CLIENT_OTHER', -- https://www.sqlskills.com/help/waits/VDI_CLIENT_OTHER\r\n",
                "        N'WAIT_FOR_RESULTS', -- https://www.sqlskills.com/help/waits/WAIT_FOR_RESULTS\r\n",
                "        N'WAITFOR', -- https://www.sqlskills.com/help/waits/WAITFOR\r\n",
                "        N'WAITFOR_TASKSHUTDOWN', -- https://www.sqlskills.com/help/waits/WAITFOR_TASKSHUTDOWN\r\n",
                "        N'WAIT_XTP_RECOVERY', -- https://www.sqlskills.com/help/waits/WAIT_XTP_RECOVERY\r\n",
                "        N'WAIT_XTP_HOST_WAIT', -- https://www.sqlskills.com/help/waits/WAIT_XTP_HOST_WAIT\r\n",
                "        N'WAIT_XTP_OFFLINE_CKPT_NEW_LOG', -- https://www.sqlskills.com/help/waits/WAIT_XTP_OFFLINE_CKPT_NEW_LOG\r\n",
                "        N'WAIT_XTP_CKPT_CLOSE', -- https://www.sqlskills.com/help/waits/WAIT_XTP_CKPT_CLOSE\r\n",
                "        N'XE_DISPATCHER_JOIN', -- https://www.sqlskills.com/help/waits/XE_DISPATCHER_JOIN\r\n",
                "        N'XE_DISPATCHER_WAIT', -- https://www.sqlskills.com/help/waits/XE_DISPATCHER_WAIT\r\n",
                "        N'XE_TIMER_EVENT' -- https://www.sqlskills.com/help/waits/XE_TIMER_EVENT\r\n",
                "        )\r\n",
                "    AND [waiting_tasks_count] > 0\r\n",
                "    )\r\n",
                "SELECT\r\n",
                "    MAX ([W1].[wait_type]) AS [WaitType],\r\n",
                "    CAST (MAX ([W1].[WaitS]) AS DECIMAL (16,2)) AS [Wait_S],\r\n",
                "    CAST (MAX ([W1].[ResourceS]) AS DECIMAL (16,2)) AS [Resource_S],\r\n",
                "    CAST (MAX ([W1].[SignalS]) AS DECIMAL (16,2)) AS [Signal_S],\r\n",
                "    MAX ([W1].[WaitCount]) AS [WaitCount],\r\n",
                "    CAST (MAX ([W1].[Percentage]) AS DECIMAL (5,2)) AS [Percentage],\r\n",
                "    CAST ((MAX ([W1].[WaitS]) / MAX ([W1].[WaitCount])) AS DECIMAL (16,4)) AS [AvgWait_S],\r\n",
                "    CAST ((MAX ([W1].[ResourceS]) / MAX ([W1].[WaitCount])) AS DECIMAL (16,4)) AS [AvgRes_S],\r\n",
                "    CAST ((MAX ([W1].[SignalS]) / MAX ([W1].[WaitCount])) AS DECIMAL (16,4)) AS [AvgSig_S],\r\n",
                "    CAST ('https://www.sqlskills.com/help/waits/' + MAX ([W1].[wait_type]) as XML) AS [Help/Info URL]\r\n",
                "FROM [Waits] AS [W1]\r\n",
                "INNER JOIN [Waits] AS [W2] ON [W2].[RowNum] <= [W1].[RowNum]\r\n",
                "GROUP BY [W1].[RowNum]\r\n",
                "HAVING SUM ([W2].[Percentage]) - MAX( [W1].[Percentage] ) < 95; -- percentage threshold\r\n",
                "GO"
            ],
            "metadata": {
                "azdata_cell_guid": "2d6b9684-83a5-44f8-b9b5-d37368a366a7",
                "tags": []
            },
            "outputs": [],
            "execution_count": null
        },
        {
            "cell_type": "markdown",
            "source": [
                "### Get Logins and The Sessions They Have\r\n",
                "This can help characterize your workload and determine whether you are seeing a normal level of activity."
            ],
            "metadata": {
                "azdata_cell_guid": "aa0d7a53-f05e-4bf8-b10c-9d986be9ab57"
            }
        },
        {
            "cell_type": "code",
            "source": [
                "USE master;\r\n",
                "GO\r\n",
                "SELECT login_name, COUNT(session_id) AS [session_count] \r\n",
                "FROM sys.dm_exec_sessions WITH (NOLOCK)\r\n",
                "GROUP BY login_name\r\n",
                "ORDER BY COUNT(session_id) DESC OPTION (RECOMPILE);\r\n",
                "GO"
            ],
            "metadata": {
                "azdata_cell_guid": "f89d6b2a-3729-47d4-b88a-b34d980d7a9c",
                "tags": []
            },
            "outputs": [],
            "execution_count": null
        },
        {
            "cell_type": "markdown",
            "source": [
                "### Get Average Task Counts (run multiple times)\r\n",
                "Sustained values above 10 suggest further investigation in that area\r\n",
                "- High Avg Task Counts are often caused by blocking or other resource contention\r\n",
                "- High Avg Runnable Task Counts are a good sign of CPU pressure\r\n",
                "- High Avg Pending DiskIO Counts are a sign of disk pressure\r\n",
                ""
            ],
            "metadata": {
                "azdata_cell_guid": "88ab34e2-5f65-4292-ab00-0cb394cdf795"
            }
        },
        {
            "cell_type": "code",
            "source": [
                "USE master;\r\n",
                "GO\r\n",
                "SELECT AVG(current_tasks_count) AS [Avg Task Count], \r\n",
                "AVG(runnable_tasks_count) AS [Avg Runnable Task Count],\r\n",
                "AVG(pending_disk_io_count) AS [Avg Pending DiskIO Count]\r\n",
                "FROM sys.dm_os_schedulers WITH (NOLOCK)\r\n",
                "WHERE scheduler_id < 255 OPTION (RECOMPILE);\r\n",
                "GO"
            ],
            "metadata": {
                "azdata_cell_guid": "0b5e74a3-0c7d-4691-af85-fe2b90f1d43a",
                "tags": []
            },
            "outputs": [],
            "execution_count": null
        },
        {
            "cell_type": "markdown",
            "source": [
                "### SQL Server Process Address Space Info \r\n",
                "Shows whether locked pages is enabled, among other things:\r\n",
                "- You want to see 0 for process_physical_memory_low\r\n",
                "- You want to see 0 for process_virtual_memory_low\r\n",
                "This indicates that you are not under internal memory pressure.\r\n",
                ""
            ],
            "metadata": {
                "azdata_cell_guid": "7206e8c9-2338-4bce-aabe-1c01f94479a8"
            }
        },
        {
            "cell_type": "code",
            "source": [
                "USE master;\r\n",
                "GO\r\n",
                "SELECT physical_memory_in_use_kb,locked_page_allocations_kb, \r\n",
                "       page_fault_count, memory_utilization_percentage, \r\n",
                "       available_commit_limit_kb, process_physical_memory_low, \r\n",
                "       process_virtual_memory_low\r\n",
                "FROM sys.dm_os_process_memory WITH (NOLOCK) OPTION (RECOMPILE);\r\n",
                "GO"
            ],
            "metadata": {
                "azdata_cell_guid": "b1c2aa2c-f3b7-46c5-b322-af1d1d6caff6",
                "tags": []
            },
            "outputs": [],
            "execution_count": null
        },
        {
            "cell_type": "markdown",
            "source": [
                "### SQL Server Performance Counters\n",
                "\n",
                "Returns common performance counter's values from sys.dm\\_os\\_performance\\_counters."
            ],
            "metadata": {
                "azdata_cell_guid": "6b8e3f23-2845-4485-9b41-7519ae59d59b"
            }
        },
        {
            "cell_type": "code",
            "source": [
                "USE master;\r\n",
                "GO\r\n",
                "SELECT object_name, counter_name, instance_name, cntr_value \r\n",
                "FROM sys.dm_os_performance_counters\r\n",
                "WHERE counter_name LIKE 'Buffer cache hit ratio  %'\r\n",
                "OR counter_name LIKE 'Page life expectancy%'\r\n",
                "OR counter_name LIKE 'LAzy writes/sec%'\r\n",
                "OR counter_name LIKE 'Page life expectancy%'\r\n",
                "OR counter_name LIKE 'Temp Tables%'\r\n",
                "OR counter_name LIKE 'Logins/sec'\r\n",
                "OR counter_name LIKE 'Connection Reset%'\r\n",
                "OR counter_name LIKE 'Logouts/sec'\r\n",
                "OR counter_name LIKE 'User Connections%'\r\n",
                "OR counter_name LIKE 'Transactions/sec%'\r\n",
                "OR counter_name LIKE 'Active Transactions%'\r\n",
                "OR counter_name LIKE 'Mars Deadlocks%'\r\n",
                "OR counter_name LIKE 'Processes Blocked%'\r\n",
                "OR counter_name LIKE 'Number of Deadlocks/sec%'\r\n",
                "OR counter_name LIKE 'Lock Timeouts (timeout > 0)/sec%'\r\n",
                "OR counter_name LIKE 'Batch Requests/sec%'\r\n",
                "OR counter_name LIKE '%active cursor%'\r\n",
                "OR counter_name LIKE 'Memory Grants%'\r\n",
                "OR counter_name LIKE '%Server Memory%'\r\n",
                "AND (instance_name LIKE '_Total%')\r\n",
                "ORDER BY counter_name ASC;\r\n",
                "GO"
            ],
            "metadata": {
                "azdata_cell_guid": "1db1f584-b5df-4216-aedc-53d60e450f46",
                "tags": []
            },
            "outputs": [],
            "execution_count": null
        },
        {
            "cell_type": "markdown",
            "source": [
                "### FInd Single-Used AdHoc Query Plans That Are Bloating The Plan Cache\r\n",
                "Gives you the text and size of single-use ad-hoc queries that waste space in the plan cache\r\n",
                "Enabling 'optimize for ad hoc workloads' for the instance can help (SQL Server 2008 and above only)\r\n",
                "Enabling forced parameterization for the database can help, but test first!"
            ],
            "metadata": {
                "azdata_cell_guid": "6d4a63f2-b079-469d-b975-62a5a385054d"
            }
        },
        {
            "cell_type": "code",
            "source": [
                "USE master;\r\n",
                "GO\r\n",
                "SELECT TOP(20) [text] AS [QueryText], cp.size_in_bytes\r\n",
                "FROM sys.dm_exec_cached_plans AS cp WITH (NOLOCK)\r\n",
                "CROSS APPLY sys.dm_exec_sql_text(plan_handle) \r\n",
                "WHERE cp.cacheobjtype = N'Compiled Plan' \r\n",
                "AND cp.objtype = N'Adhoc' \r\n",
                "AND cp.usecounts = 1\r\n",
                "ORDER BY cp.size_in_bytes DESC OPTION (RECOMPILE);\r\n",
                "GO"
            ],
            "metadata": {
                "azdata_cell_guid": "f8a24d7b-430a-433a-af2f-a462f0eb6043",
                "tags": []
            },
            "outputs": [],
            "execution_count": null
        },
        {
            "cell_type": "markdown",
            "source": [
                "### Latches With Most Waiting Requests\r\n",
                ""
            ],
            "metadata": {
                "azdata_cell_guid": "81955909-ff7c-4b41-85da-1cebf620ffb4"
            }
        },
        {
            "cell_type": "code",
            "source": [
                "SELECT TOP 15 * FROM sys.dm_os_latch_stats\r\n",
                "ORDER BY waiting_requests_count DESC"
            ],
            "metadata": {
                "azdata_cell_guid": "514d2ba5-4aa7-40a2-80a5-de9fe253daf7",
                "tags": []
            },
            "outputs": [],
            "execution_count": null
        },
        {
            "cell_type": "markdown",
            "source": [
                "### Find Sleeping Sessions with Open Transaction\r\n",
                ""
            ],
            "metadata": {
                "azdata_cell_guid": "d88ed745-2ba1-4918-b622-379c8cf65d4a"
            }
        },
        {
            "cell_type": "code",
            "source": [
                "  select datediff(minute, s.last_request_end_time, getdate()) as minutes_asleep,\r\n",
                "         s.session_id,\r\n",
                "         db_name(s.database_id) as database_name,\r\n",
                "         s.host_name,\r\n",
                "         s.host_process_id,\r\n",
                "         t.text as last_sql,\r\n",
                "         s.program_name,\r\n",
                "\t\t s.open_transaction_count\r\n",
                "    from sys.dm_exec_connections c\r\n",
                "    join sys.dm_exec_sessions s\r\n",
                "         on c.session_id = s.session_id\r\n",
                "   outer apply sys.dm_exec_sql_text(c.most_recent_sql_handle) t\r\n",
                "   where s.is_user_process = 1 and s.open_transaction_count >= 1\r\n",
                "         and s.status = 'sleeping'\r\n",
                "         and datediff(second, s.last_request_end_time, getdate()) > 60\r\n",
                "   order by s.last_request_end_time;"
            ],
            "metadata": {
                "azdata_cell_guid": "a11e6ff2-3edc-49bc-84f4-463036d31b59",
                "tags": []
            },
            "outputs": [],
            "execution_count": null
        },
        {
            "cell_type": "markdown",
            "source": [
                "### Duplicate Indexes"
            ],
            "metadata": {
                "azdata_cell_guid": "3cc224d9-6a05-40f1-8d11-2cf2c90557fb"
            }
        },
        {
            "cell_type": "code",
            "source": [
                ";with IndexColumns AS(\r\n",
                "select distinct  schema_name (o.schema_id) as 'SchemaName',object_name(o.object_id) as TableName, i.Name as IndexName, o.object_id,i.index_id,i.type,\r\n",
                "(select case key_ordinal when 0 then NULL else '['+col_name(k.object_id,column_id) +'] ' + CASE WHEN is_descending_key=1 THEN 'Desc' ELSE 'Asc' END end as [data()]\r\n",
                "from sys.index_columns  (NOLOCK) as k\r\n",
                "where k.object_id = i.object_id\r\n",
                "and k.index_id = i.index_id\r\n",
                "order by key_ordinal, column_id\r\n",
                "for xml path('')) as cols,\r\n",
                "case when i.index_id=1 then \r\n",
                "(select '['+name+']' as [data()]\r\n",
                "from sys.columns  (NOLOCK) as c\r\n",
                "where c.object_id = i.object_id\r\n",
                "and c.column_id not in (select column_id from sys.index_columns  (NOLOCK) as kk    where kk.object_id = i.object_id and kk.index_id = i.index_id)\r\n",
                "order by column_id\r\n",
                "for xml path(''))\r\n",
                "else (select '['+col_name(k.object_id,column_id) +']' as [data()]\r\n",
                "from sys.index_columns  (NOLOCK) as k\r\n",
                "where k.object_id = i.object_id\r\n",
                "and k.index_id = i.index_id and is_included_column=1 and k.column_id not in (Select column_id from sys.index_columns kk where k.object_id=kk.object_id and kk.index_id=1)\r\n",
                "order by key_ordinal, column_id\r\n",
                "for xml path('')) end as inc\r\n",
                "from sys.indexes  (NOLOCK) as i\r\n",
                "inner join sys.objects o  (NOLOCK) on i.object_id =o.object_id \r\n",
                "inner join sys.index_columns ic  (NOLOCK) on ic.object_id =i.object_id and ic.index_id =i.index_id\r\n",
                "inner join sys.columns c  (NOLOCK) on c.object_id = ic.object_id and c.column_id = ic.column_id\r\n",
                "where  o.type = 'U' and i.index_id <>0 and i.type <>3 and i.type <>5 and i.type <>6 and i.type <>7 \r\n",
                "group by o.schema_id,o.object_id,i.object_id,i.Name,i.index_id,i.type\r\n",
                "),\r\n",
                "DuplicatesTable AS\r\n",
                "(SELECT    ic1.SchemaName,ic1.TableName,ic1.IndexName,ic1.object_id, ic2.IndexName as DuplicateIndexName, \r\n",
                "CASE WHEN ic1.index_id=1 THEN ic1.cols + ' (Clustered)' WHEN ic1.inc = '' THEN ic1.cols  WHEN ic1.inc is NULL THEN ic1.cols ELSE ic1.cols + ' INCLUDE ' + ic1.inc END as IndexCols, \r\n",
                "ic1.index_id\r\n",
                "from IndexColumns ic1 join IndexColumns ic2 on ic1.object_id = ic2.object_id\r\n",
                "and ic1.index_id < ic2.index_id and ic1.cols = ic2.cols\r\n",
                "and (ISNULL(ic1.inc,'') = ISNULL(ic2.inc,'')  OR ic1.index_id=1 )\r\n",
                ")\r\n",
                "SELECT SchemaName,TableName, IndexName,DuplicateIndexName, IndexCols, index_id, object_id, 0 AS IsXML\r\n",
                "FROM DuplicatesTable dt\r\n",
                "ORDER BY 1,2,3\r\n",
                ""
            ],
            "metadata": {
                "azdata_cell_guid": "f4f2e3ba-faac-466c-bc03-ffa6a7f0d051",
                "tags": []
            },
            "outputs": [],
            "execution_count": null
        },
        {
            "cell_type": "markdown",
            "source": [
                "### Redundant Indexes\r\n",
                ""
            ],
            "metadata": {
                "azdata_cell_guid": "41772194-359e-44d9-988f-100a1a9947ee"
            }
        },
        {
            "cell_type": "code",
            "source": [
                ";with IndexColumns AS(\r\n",
                "select distinct  schema_name (o.schema_id) as 'SchemaName',object_name(o.object_id) as TableName, i.Name as IndexName, o.object_id,i.index_id,i.type,\r\n",
                "(select case key_ordinal when 0 then NULL else '['+col_name(k.object_id,column_id) +']' end as [data()]\r\n",
                "from sys.index_columns  (NOLOCK) as k\r\n",
                "where k.object_id = i.object_id\r\n",
                "and k.index_id = i.index_id\r\n",
                "order by key_ordinal, column_id\r\n",
                "for xml path('')) as cols,\r\n",
                "(select case key_ordinal when 0 then NULL else '['+col_name(k.object_id,column_id) +'] ' + CASE WHEN is_descending_key=1 THEN 'Desc' ELSE 'Asc' END end as [data()]\r\n",
                "from sys.index_columns  (NOLOCK) as k\r\n",
                "where k.object_id = i.object_id\r\n",
                "and k.index_id = i.index_id\r\n",
                "order by key_ordinal, column_id\r\n",
                "for xml path('')) as colsWithSortOrder,\r\n",
                "case when i.index_id=1 then \r\n",
                "(select '['+name+']' as [data()]\r\n",
                "from sys.columns  (NOLOCK) as c\r\n",
                "where c.object_id = i.object_id\r\n",
                "and c.column_id not in (select column_id from sys.index_columns  (NOLOCK) as kk    where kk.object_id = i.object_id and kk.index_id = i.index_id)\r\n",
                "order by column_id for xml path(''))\r\n",
                "else\r\n",
                "(select '['+col_name(k.object_id,column_id) +']' as [data()]\r\n",
                "from sys.index_columns  (NOLOCK) as k\r\n",
                "where k.object_id = i.object_id\r\n",
                "and k.index_id = i.index_id and is_included_column=1 and k.column_id not in (Select column_id from sys.index_columns kk where k.object_id=kk.object_id and kk.index_id=1)\r\n",
                "order by key_ordinal, column_id for xml path('')) end as inc\r\n",
                "from sys.indexes  (NOLOCK) as i\r\n",
                "inner join sys.objects o  (NOLOCK) on i.object_id =o.object_id \r\n",
                "inner join sys.index_columns ic  (NOLOCK) on ic.object_id =i.object_id and ic.index_id =i.index_id\r\n",
                "inner join sys.columns c  (NOLOCK) on c.object_id = ic.object_id and c.column_id = ic.column_id\r\n",
                "where  o.type = 'U' and i.index_id <>0 and i.type <>3 and i.type <>5 and i.type <>6 and i.type <>7\r\n",
                "group by o.schema_id,o.object_id,i.object_id,i.Name,i.index_id,i.type\r\n",
                "), ResultTable AS\r\n",
                "(SELECT    ic1.SchemaName,ic1.TableName,ic1.IndexName,ic1.object_id, ic2.IndexName as RedundantIndexName, CASE WHEN ic1.index_id=1 THEN ic1.colsWithSortOrder + ' (Clustered)' WHEN ic1.inc = '' THEN ic1.colsWithSortOrder  WHEN ic1.inc is NULL THEN ic1.colsWithSortOrder ELSE ic1.colsWithSortOrder + ' INCLUDE ' + ic1.inc END as IndexCols, \r\n",
                "CASE WHEN ic2.index_id=1 THEN ic2.colsWithSortOrder + ' (Clustered)' WHEN ic2.inc = '' THEN ic2.colsWithSortOrder  WHEN ic2.inc is NULL THEN ic2.colsWithSortOrder ELSE ic2.colsWithSortOrder + ' INCLUDE ' + ic2.inc END as RedundantIndexCols, ic1.index_id\r\n",
                ",ic1.cols col1,ic2.cols col2\r\n",
                "from IndexColumns ic1 join IndexColumns ic2 on ic1.object_id = ic2.object_id\r\n",
                "and ic1.index_id <> ic2.index_id and not (ic1.colsWithSortOrder = ic2.colsWithSortOrder and ISNULL(ic1.inc,'') = ISNULL(ic2.inc,''))\r\n",
                "and not (ic1.index_id=1 AND ic1.cols = ic2.cols ) and ic1.cols like REPLACE (ic2.cols , '[','[[]') + '%'\r\n",
                ")\r\n",
                "SELECT SchemaName,TableName, IndexName, IndexCols, RedundantIndexName, RedundantIndexCols, object_id, index_id\r\n",
                "FROM ResultTable\r\n",
                "ORDER BY 1,2,3,5\r\n",
                ""
            ],
            "metadata": {
                "azdata_cell_guid": "7239121b-0d17-4d52-9166-c22c950daff1",
                "tags": []
            },
            "outputs": [],
            "execution_count": null
        },
        {
            "cell_type": "markdown",
            "source": [
                "### Find FK without Index"
            ],
            "metadata": {
                "azdata_cell_guid": "52727fbe-6714-487b-93ec-a6d736701325"
            }
        },
        {
            "cell_type": "code",
            "source": [
                " /* Foreign keys */\r\n",
                ";WITH FKTable \r\n",
                "as(\r\n",
                "    SELECT schema_name(o.schema_id) AS 'parent_schema_name',object_name(FKC.parent_object_id) 'parent_table_name',\r\n",
                "    object_name(constraint_object_id) AS 'constraint_name',schema_name(RO.Schema_id) AS 'referenced_schema',object_name(referenced_object_id) AS 'referenced_table_name',\r\n",
                "    (SELECT '['+col_name(k.parent_object_id,parent_column_id) +']' AS [data()]\r\n",
                "      FROM sys.foreign_key_columns (NOLOCK) AS k\r\n",
                "      INNER JOIN sys.foreign_keys (NOLOCK)\r\n",
                "      ON k.constraint_object_id =object_id\r\n",
                "      AND k.constraint_object_id =FKC.constraint_object_id\r\n",
                "      ORDER BY constraint_column_id\r\n",
                "      FOR XML PATH('') \r\n",
                "    ) AS 'parent_colums',\r\n",
                "    (SELECT '['+col_name(k.referenced_object_id,referenced_column_id) +']' AS [data()]\r\n",
                "      FROM sys.foreign_key_columns (NOLOCK) AS k\r\n",
                "      INNER JOIN sys.foreign_keys (NOLOCK)\r\n",
                "      ON k.constraint_object_id =object_id\r\n",
                "      AND k.constraint_object_id =FKC.constraint_object_id\r\n",
                "      ORDER BY constraint_column_id\r\n",
                "      FOR XML PATH('') \r\n",
                "    ) AS 'referenced_columns'\r\n",
                "  FROM sys.foreign_key_columns FKC (NOLOCK)\r\n",
                "  INNER JOIN sys.objects o (NOLOCK) ON FKC.parent_object_id = o.object_id\r\n",
                "  INNER JOIN sys.objects RO (NOLOCK) ON FKC.referenced_object_id = RO.object_id\r\n",
                "  WHERE o.object_id in (SELECT object_id FROM sys.objects (NOLOCK) WHERE type ='U') AND RO.object_id in (SELECT object_id FROM sys.objects (NOLOCK) WHERE type ='U')\r\n",
                "  group by o.schema_id,RO.schema_id,FKC.parent_object_id,constraint_object_id,referenced_object_id\r\n",
                "),\r\n",
                "/* Index Columns */\r\n",
                "IndexColumnsTable AS\r\n",
                "(\r\n",
                "  SELECT distinct schema_name (o.schema_id) AS 'schema_name',object_name(o.object_id) AS TableName,\r\n",
                "  (SELECT case key_ordinal when 0 then NULL else '['+col_name(k.object_id,column_id) +']' end AS [data()]\r\n",
                "    FROM sys.index_columns (NOLOCK) AS k\r\n",
                "    WHERE k.object_id = i.object_id\r\n",
                "    AND k.index_id = i.index_id\r\n",
                "    ORDER BY key_ordinal, column_id\r\n",
                "    FOR XML PATH('')\r\n",
                "  ) AS cols\r\n",
                "  FROM sys.indexes (NOLOCK) AS i\r\n",
                "  INNER JOIN sys.objects o (NOLOCK) ON i.object_id =o.object_id \r\n",
                "  INNER JOIN sys.index_columns ic (NOLOCK) ON ic.object_id =i.object_id AND ic.index_id =i.index_id\r\n",
                "  INNER JOIN sys.columns c (NOLOCK) ON c.object_id = ic.object_id AND c.column_id = ic.column_id\r\n",
                "  WHERE i.object_id in (SELECT object_id FROM sys.objects (NOLOCK) WHERE type ='U') AND i.index_id > 0\r\n",
                "  group by o.schema_id,o.object_id,i.object_id,i.Name,i.index_id,i.type\r\n",
                ")\r\n",
                "SELECT \r\n",
                "  fk.parent_schema_name AS SchemaName,\r\n",
                "  fk.parent_table_name AS TableName,\r\n",
                "  fk.constraint_name AS ConstraintName,\r\n",
                "  fk.referenced_schema AS ReferencedSchemaName,\r\n",
                "  fk.referenced_table_name AS ReferencedTableName\r\n",
                "FROM FKTable fk \r\n",
                "WHERE (SELECT COUNT(*) AS NbIndexes  FROM IndexColumnsTable ict  WHERE fk.parent_schema_name = ict.schema_name AND fk.parent_table_name = ict.TableName      AND fk.parent_colums = ict.cols\r\n",
                "  ) = 0\r\n",
                " \r\n",
                "\r\n",
                "\r\n",
                ""
            ],
            "metadata": {
                "azdata_cell_guid": "d6e7e87c-b127-42d3-a246-25feffcbbe44",
                "tags": []
            },
            "outputs": [],
            "execution_count": null
        },
        {
            "cell_type": "markdown",
            "source": [
                "### Tables without Clustered Index (Heaps)\r\n",
                ""
            ],
            "metadata": {
                "azdata_cell_guid": "19bd0102-e483-458b-8e00-33dfa46d02d2"
            }
        },
        {
            "cell_type": "code",
            "source": [
                "SELECT DISTINCT \r\n",
                "schema_name(so.schema_id) AS 'SchemaName',object_name(so.object_id) AS 'TableName',so.object_id AS 'object_id', max(dmv.rows) AS 'ApproximateRows', \r\n",
                "CASE objectproperty(MAX(so.object_id), 'TableHasClustIndex') WHEN 0 THEN count(si.index_id) - 1 ELSE COUNT(si.index_id) END as 'IndexCount', MAX(d.ColumnCount) AS 'ColumnCount'\r\n",
                "FROM sys.objects so (NOLOCK)\r\n",
                "JOIN sys.indexes si (NOLOCK) ON so.object_id = si.object_id AND so.type in (N'U',N'V') \r\n",
                "JOIN sysindexes dmv (NOLOCK) ON so.object_id = dmv.id AND si.index_id = dmv.indid\r\n",
                "FULL OUTER JOIN (SELECT object_id, count(1) AS ColumnCount FROM sys.columns (NOLOCK) GROUP BY object_id) d \r\n",
                "ON d.object_id = so.object_id\r\n",
                "WHERE so.is_ms_shipped = 0\r\n",
                "AND so.object_id NOT IN (SELECT major_id FROM sys.extended_properties (NOLOCK) WHERE name = N'microsoft_database_tools_support')\r\n",
                "AND indexproperty(so.object_id, si.name, 'IsStatistics') = 0\r\n",
                "GROUP BY so.schema_id, so.object_id\r\n",
                "HAVING (objectproperty(max(so.object_id), 'TableHasClustIndex') = 0 \r\n",
                "--AND COUNT(si.index_id)-1 > 0\r\n",
                ")\r\n",
                "ORDER BY SchemaName, TableName;\r\n",
                ""
            ],
            "metadata": {
                "azdata_cell_guid": "28b47e9b-58fb-4878-abf6-4dc9ec918a51",
                "tags": []
            },
            "outputs": [],
            "execution_count": null
        },
        {
            "cell_type": "markdown",
            "source": [
                "### Tables without Any Index"
            ],
            "metadata": {
                "azdata_cell_guid": "5f65312a-1540-413b-8110-6a57e0cee948"
            }
        },
        {
            "cell_type": "code",
            "source": [
                "SELECT DISTINCT \r\n",
                "schema_name(so.schema_id) AS 'SchemaName',object_name(so.object_id) AS 'TableName',so.object_id AS 'object_id', max(dmv.rows) AS 'ApproximateRows', \r\n",
                "CASE objectproperty(MAX(so.object_id), 'TableHasClustIndex') WHEN 0 THEN count(si.index_id) - 1 ELSE COUNT(si.index_id) END as 'IndexCount', MAX(d.ColumnCount) AS 'ColumnCount'\r\n",
                "FROM sys.objects so (NOLOCK)\r\n",
                "JOIN sys.indexes si (NOLOCK) ON so.object_id = si.object_id AND so.type in (N'U',N'V') \r\n",
                "JOIN sysindexes dmv (NOLOCK) ON so.object_id = dmv.id AND si.index_id = dmv.indid\r\n",
                "FULL OUTER JOIN (SELECT object_id, count(1) AS ColumnCount FROM sys.columns (NOLOCK) GROUP BY object_id) d \r\n",
                "ON d.object_id = so.object_id\r\n",
                "WHERE so.is_ms_shipped = 0\r\n",
                "AND so.object_id NOT IN (SELECT major_id FROM sys.extended_properties (NOLOCK) WHERE name = N'microsoft_database_tools_support')\r\n",
                "AND indexproperty(so.object_id, si.name, 'IsStatistics') = 0\r\n",
                "GROUP BY so.schema_id, so.object_id\r\n",
                "HAVING (objectproperty(max(so.object_id), 'TableHasClustIndex') = 0 \r\n",
                "--AND COUNT(si.index_id)-1 > 0\r\n",
                ")\r\n",
                "ORDER BY SchemaName, TableName;"
            ],
            "metadata": {
                "azdata_cell_guid": "9c156763-e131-40f5-80e4-931e65f73510",
                "tags": []
            },
            "outputs": [],
            "execution_count": null
        },
        {
            "cell_type": "markdown",
            "source": [
                "### Missing Indexes\r\n",
                ""
            ],
            "metadata": {
                "azdata_cell_guid": "a854e7be-8627-45c7-99fd-8bd346d02fa1"
            }
        },
        {
            "cell_type": "code",
            "source": [
                "SELECT mig.index_group_handle,mid.index_handle, migs.avg_total_user_cost as AvgTotalUserCostThatCouldbeReduced, migs.avg_user_impact as AvgPercentageBenefit,\r\n",
                "'CREATE INDEX missing_index_' + CONVERT (varchar, mig.index_group_handle) + '_' + CONVERT (varchar, mid.index_handle)\r\n",
                "  + ' ON ' + mid.statement \r\n",
                "  + ' (' + ISNULL (mid.equality_columns,'')\r\n",
                "    + CASE WHEN mid.equality_columns IS NOT NULL AND mid.inequality_columns IS NOT NULL THEN ',' ELSE '' END\r\n",
                "    + ISNULL (mid.inequality_columns, '')\r\n",
                "  + ')'\r\n",
                "  + ISNULL (' INCLUDE (' + mid.included_columns + ')', '') AS create_index_statement \r\n",
                "FROM sys.dm_db_missing_index_groups mig\r\n",
                "INNER JOIN sys.dm_db_missing_index_group_stats migs ON migs.group_handle = mig.index_group_handle\r\n",
                "INNER JOIN sys.dm_db_missing_index_details mid ON mig.index_handle = mid.index_handle\r\n",
                "ORDER BY migs.avg_user_impact desc, migs.avg_total_user_cost desc"
            ],
            "metadata": {
                "azdata_cell_guid": "1ad997b6-21e7-4205-823a-77c348e1adf0",
                "tags": []
            },
            "outputs": [],
            "execution_count": null
        },
        {
            "cell_type": "markdown",
            "source": [
                "### Sessions Transaction Isolation Level"
            ],
            "metadata": {
                "azdata_cell_guid": "35eea8d8-ac54-47db-bcf2-2cac629860bc"
            }
        },
        {
            "cell_type": "code",
            "source": [
                "SELECT DISTINCT DB_NAME(database_id) as database_name, program_name, host_name,client_interface_name, login_name, status, open_transaction_count, CASE transaction_isolation_level \r\n",
                "WHEN 0 THEN 'Unspecified' \r\n",
                "WHEN 1 THEN 'ReadUncommitted' \r\n",
                "WHEN 2 THEN 'ReadCommitted' \r\n",
                "WHEN 3 THEN 'Repeatable' \r\n",
                "WHEN 4 THEN 'Serializable' \r\n",
                "WHEN 5 THEN 'Snapshot' END AS transaction_isolation_level \r\n",
                "FROM sys.dm_exec_sessions \r\n",
                "WHERE is_user_process = 1 AND database_id > 4;\r\n",
                ""
            ],
            "metadata": {
                "azdata_cell_guid": "873da6ae-94a0-45f3-94d4-b944d315ee9f",
                "tags": []
            },
            "outputs": [],
            "execution_count": null
        },
        {
            "cell_type": "markdown",
            "source": [
                "### Index Usage Stats - Scan, Seek, Lookup\r\n",
                ""
            ],
            "metadata": {
                "azdata_cell_guid": "03fad856-765e-4c2c-94c4-0f42d56a7d06"
            }
        },
        {
            "cell_type": "code",
            "source": [
                "SELECT OBJECT_NAME(IX.OBJECT_ID) Table_Name\r\n",
                "\t   ,IX.name AS Index_Name\r\n",
                "\t   ,IX.type_desc Index_Type\r\n",
                "\t   ,SUM(PS.[used_page_count]) * 8 IndexSizeKB\r\n",
                "\t   ,IXUS.user_seeks AS NumOfSeeks\r\n",
                "\t   ,IXUS.user_scans AS NumOfScans\r\n",
                "\t   ,IXUS.user_lookups AS NumOfLookups\r\n",
                "\t   ,IXUS.user_updates AS NumOfUpdates\r\n",
                "\t   ,IXUS.last_user_seek AS LastSeek\r\n",
                "\t   ,IXUS.last_user_scan AS LastScan\r\n",
                "\t   ,IXUS.last_user_lookup AS LastLookup\r\n",
                "\t   ,IXUS.last_user_update AS LastUpdate\r\n",
                "FROM sys.indexes IX\r\n",
                "INNER JOIN sys.dm_db_index_usage_stats IXUS ON IXUS.index_id = IX.index_id AND IXUS.OBJECT_ID = IX.OBJECT_ID\r\n",
                "INNER JOIN sys.dm_db_partition_stats PS on PS.object_id=IX.object_id\r\n",
                "WHERE OBJECTPROPERTY(IX.OBJECT_ID,'IsUserTable') = 1\r\n",
                "GROUP BY OBJECT_NAME(IX.OBJECT_ID) ,IX.name ,IX.type_desc ,IXUS.user_seeks ,IXUS.user_scans ,IXUS.user_lookups,IXUS.user_updates ,IXUS.last_user_seek ,IXUS.last_user_scan ,IXUS.last_user_lookup ,IXUS.last_user_update"
            ],
            "metadata": {
                "azdata_cell_guid": "a4095a2b-b0d6-4f50-9cfe-c07192047326",
                "tags": []
            },
            "outputs": [],
            "execution_count": null
        },
        {
            "cell_type": "markdown",
            "source": [
                "### Index Usage Stats - Update, Insert, Delete\r\n",
                ""
            ],
            "metadata": {
                "azdata_cell_guid": "df7aed4e-0d9b-465d-a787-310c70e50746"
            }
        },
        {
            "cell_type": "code",
            "source": [
                "SELECT OBJECT_NAME(IXOS.OBJECT_ID)  Table_Name \r\n",
                "       ,IX.name  Index_Name\r\n",
                "\t   ,IX.type_desc Index_Type\r\n",
                "\t   ,SUM(PS.[used_page_count]) * 8 IndexSizeKB\r\n",
                "       ,IXOS.LEAF_INSERT_COUNT NumOfInserts\r\n",
                "       ,IXOS.LEAF_UPDATE_COUNT NumOfupdates\r\n",
                "       ,IXOS.LEAF_DELETE_COUNT NumOfDeletes\r\n",
                "FROM   SYS.DM_DB_INDEX_OPERATIONAL_STATS (NULL,NULL,NULL,NULL ) IXOS \r\n",
                "INNER JOIN SYS.INDEXES AS IX ON IX.OBJECT_ID = IXOS.OBJECT_ID AND IX.INDEX_ID =    IXOS.INDEX_ID \r\n",
                "\tINNER JOIN sys.dm_db_partition_stats PS on PS.object_id=IX.object_id\r\n",
                "WHERE  OBJECTPROPERTY(IX.[OBJECT_ID],'IsUserTable') = 1\r\n",
                "GROUP BY OBJECT_NAME(IXOS.OBJECT_ID), IX.name, IX.type_desc,IXOS.LEAF_INSERT_COUNT, IXOS.LEAF_UPDATE_COUNT,IXOS.LEAF_DELETE_COUNT"
            ],
            "metadata": {
                "azdata_cell_guid": "a1be4fa5-0421-43e3-9367-943f56123d0c",
                "tags": []
            },
            "outputs": [],
            "execution_count": null
        },
        {
            "cell_type": "markdown",
            "source": [
                "### Find SQL Triggers"
            ],
            "metadata": {
                "azdata_cell_guid": "d0b2706d-3ad9-4870-9843-42db63e42c92"
            }
        },
        {
            "cell_type": "code",
            "source": [
                "DECLARE @QRY VARCHAR(MAX) ='';\r\n",
                "\r\n",
                "SELECT @QRY =@QRY + ' select  ' + QUOTENAME(name,'''') + ' COLLATE SQL_Latin1_General_CP1_CI_AS AS database_name \r\n",
                "    ,OBJECT_NAME(TR.parent_id) COLLATE SQL_Latin1_General_CP1_CI_AS AS table_name \r\n",
                "\t,name COLLATE SQL_Latin1_General_CP1_CI_AS AS trigger_name\r\n",
                "\t,parent_class_desc\r\n",
                "\t,type_desc\r\n",
                "\t,create_date\r\n",
                "\t,is_disabled\r\n",
                "FROM ['+name+'].SYS.TRIGGERS TR\r\n",
                "UNION ALL\r\n",
                "' \r\n",
                "FROM SYS.DATABASES\r\n",
                "WHERE name not IN ('master', 'model', 'msdb', 'tempdb', 'resource',\r\n",
                "       'distribution' , 'reportserver', 'reportservertempdb','jiradb')\r\n",
                "\r\n",
                "SELECT @QRY = SUBSTRING(@QRY,1,LEN(@QRY)-12)\r\n",
                "\r\n",
                "EXEC( @QRY)"
            ],
            "metadata": {
                "azdata_cell_guid": "9a3259cd-9d0a-42bd-8c77-8d59e0d1b601",
                "tags": []
            },
            "outputs": [],
            "execution_count": null
        },
        {
            "cell_type": "markdown",
            "source": [
                "### Top 10 Most Executed Stored Procedures"
            ],
            "metadata": {
                "azdata_cell_guid": "8a874910-7e17-4222-9697-4849102b0dfb"
            }
        },
        {
            "cell_type": "code",
            "source": [
                "SELECT  TOP 10 DB_NAME(database_id) AS DatabaseName,\r\n",
                "        OBJECT_NAME(object_id,database_id) AS ProcName,\r\n",
                "\t\texecution_count,\r\n",
                "        total_elapsed_time / 1000000 TotElapsed,\r\n",
                "\t\t(total_elapsed_time/1000000)/execution_count AvgElapsed,\r\n",
                "        last_elapsed_time / 1000000 LastElapsed,\r\n",
                "        min_elapsed_time / 1000000 MinElapsed,\r\n",
                "        max_elapsed_time / 1000000 MaxElapsed,\r\n",
                "        max_logical_reads / 1000000 MaxRead,\r\n",
                "        max_logical_writes / 1000000 MaxWrite\r\n",
                "FROM    sys.dm_exec_procedure_stats\r\n",
                "WHERE database_id > = 5 and database_id <= 32766\r\n",
                "ORDER BY execution_count DESC\r\n",
                ""
            ],
            "metadata": {
                "azdata_cell_guid": "49bfe656-e067-4bc4-ab2e-121afa4f4ebd",
                "tags": []
            },
            "outputs": [],
            "execution_count": null
        },
        {
            "cell_type": "markdown",
            "source": [
                "### Top 5 Most Duration (avg) Stored Procedures"
            ],
            "metadata": {
                "azdata_cell_guid": "284d9818-3ace-4feb-91b4-20a51f50bde0"
            }
        },
        {
            "cell_type": "code",
            "source": [
                "SELECT TOP 5 CASE WHEN a.database_id = 32767 then 'Resource' ELSE DB_NAME(database_id)END AS DBName\r\n",
                "      ,OBJECT_SCHEMA_NAME(object_id,a.database_id) AS [SCHEMA_NAME]  \r\n",
                "      ,OBJECT_NAME(object_id,a.database_id)AS [OBJECT_NAME]\r\n",
                "      ,a.cached_time\r\n",
                "      ,a.last_execution_time\r\n",
                "      ,a.execution_count\r\n",
                "\t  ,qs.refcounts, qs.usecounts\r\n",
                "      ,a.total_worker_time / a.execution_count AS AVG_CPU\r\n",
                "      ,a.total_elapsed_time / a.execution_count AS AVG_ELAPSED\r\n",
                "      ,a.total_logical_reads / a.execution_count AS AVG_LOGICAL_READS\r\n",
                "      ,a.total_logical_writes / a.execution_count AS AVG_LOGICAL_WRITES\r\n",
                "      ,a.total_physical_reads  / a.execution_count AS AVG_PHYSICAL_READS\r\n",
                "\t  ,qp.query_plan\r\n",
                "FROM sys.dm_exec_procedure_stats a\r\n",
                "JOIN [sys].[dm_exec_cached_plans] AS [qs] ON [a].[plan_handle] = [qs].[plan_handle]\r\n",
                "CROSS APPLY [sys].[dm_exec_query_plan]([qs].[plan_handle]) AS [qp]\r\n",
                "WHERE (a.database_id > 4 AND DB_NAME(database_id) <> 'Resource') \r\n",
                "AND qp.query_plan IS NOT NULL\r\n",
                "ORDER BY AVG_ELAPSED DESC"
            ],
            "metadata": {
                "azdata_cell_guid": "4ae4c5d1-f11b-4bea-9fdb-7b73bfa0cc28",
                "tags": []
            },
            "outputs": [],
            "execution_count": null
        },
        {
            "cell_type": "markdown",
            "source": [
                "### Top 5 Most Reads (avg) Stored Procedures "
            ],
            "metadata": {
                "azdata_cell_guid": "71f587de-cec8-4682-b63d-213cdd112977"
            }
        },
        {
            "cell_type": "code",
            "source": [
                "SELECT TOP 5 CASE WHEN a.database_id = 32767 then 'Resource' ELSE DB_NAME(database_id)END AS DBName\r\n",
                "      ,OBJECT_SCHEMA_NAME(object_id,a.database_id) AS [SCHEMA_NAME]  \r\n",
                "      ,OBJECT_NAME(object_id,a.database_id)AS [OBJECT_NAME]\r\n",
                "      ,a.cached_time\r\n",
                "      ,a.last_execution_time\r\n",
                "      ,a.execution_count\r\n",
                "\t  ,qs.refcounts, qs.usecounts\r\n",
                "      ,a.total_worker_time / a.execution_count AS AVG_CPU\r\n",
                "      ,a.total_elapsed_time / a.execution_count AS AVG_ELAPSED\r\n",
                "      ,a.total_logical_reads / a.execution_count AS AVG_LOGICAL_READS\r\n",
                "      ,a.total_logical_writes / a.execution_count AS AVG_LOGICAL_WRITES\r\n",
                "      ,a.total_physical_reads  / a.execution_count AS AVG_PHYSICAL_READS\r\n",
                "\t  ,qp.query_plan\r\n",
                "FROM sys.dm_exec_procedure_stats a\r\n",
                "JOIN [sys].[dm_exec_cached_plans] AS [qs] ON [a].[plan_handle] = [qs].[plan_handle]\r\n",
                "CROSS APPLY [sys].[dm_exec_query_plan]([qs].[plan_handle]) AS [qp]\r\n",
                "WHERE (a.database_id > 4 AND DB_NAME(database_id) <> 'Resource') \r\n",
                "AND qp.query_plan IS NOT NULL\r\n",
                "ORDER BY AVG_LOGICAL_READS DESC"
            ],
            "metadata": {
                "azdata_cell_guid": "424d1fc8-646f-4009-90ac-ee9605700fbb",
                "tags": []
            },
            "outputs": [],
            "execution_count": null
        },
        {
            "cell_type": "markdown",
            "source": [
                "### Top 5 Most CPU Time (avg) Stored Procedures"
            ],
            "metadata": {
                "azdata_cell_guid": "6a0ff112-3198-4d05-ab4e-3b0da5f189b6"
            }
        },
        {
            "cell_type": "code",
            "source": [
                "SELECT TOP 5 CASE WHEN a.database_id = 32767 then 'Resource' ELSE DB_NAME(database_id)END AS DBName\r\n",
                "      ,OBJECT_SCHEMA_NAME(object_id,a.database_id) AS [SCHEMA_NAME]  \r\n",
                "      ,OBJECT_NAME(object_id,a.database_id)AS [OBJECT_NAME]\r\n",
                "      ,a.cached_time\r\n",
                "      ,a.last_execution_time\r\n",
                "      ,a.execution_count\r\n",
                "\t  ,qs.refcounts, qs.usecounts\r\n",
                "      ,a.total_worker_time / a.execution_count AS AVG_CPU\r\n",
                "      ,a.total_elapsed_time / a.execution_count AS AVG_ELAPSED\r\n",
                "      ,a.total_logical_reads / a.execution_count AS AVG_LOGICAL_READS\r\n",
                "      ,a.total_logical_writes / a.execution_count AS AVG_LOGICAL_WRITES\r\n",
                "      ,a.total_physical_reads  / a.execution_count AS AVG_PHYSICAL_READS\r\n",
                "\t  ,qp.query_plan\r\n",
                "FROM sys.dm_exec_procedure_stats a\r\n",
                "JOIN [sys].[dm_exec_cached_plans] AS [qs] ON [a].[plan_handle] = [qs].[plan_handle]\r\n",
                "CROSS APPLY [sys].[dm_exec_query_plan]([qs].[plan_handle]) AS [qp]\r\n",
                "WHERE (a.database_id > 4 AND DB_NAME(database_id) <> 'Resource') \r\n",
                "AND qp.query_plan IS NOT NULL\r\n",
                "ORDER BY AVG_CPU DESC"
            ],
            "metadata": {
                "azdata_cell_guid": "4c6bc7bb-2477-4316-b010-8cf146b1e959",
                "tags": []
            },
            "outputs": [],
            "execution_count": null
        },
        {
            "cell_type": "markdown",
            "source": [
                "### Top 5 Expensive Queries\r\n",
                ""
            ],
            "metadata": {
                "azdata_cell_guid": "a0a3c44d-8570-4442-8e5a-bf7727231b8f"
            }
        },
        {
            "cell_type": "code",
            "source": [
                "SELECT TOP 10 SUBSTRING(qt.TEXT, (qs.statement_start_offset/2)+1,\r\n",
                "((CASE qs.statement_end_offset\r\n",
                "WHEN -1 THEN DATALENGTH(qt.TEXT)\r\n",
                "ELSE qs.statement_end_offset\r\n",
                "END - qs.statement_start_offset)/2)+1) QueryText,\r\n",
                "qs.execution_count,\r\n",
                "qs.total_logical_reads, qs.last_logical_reads,\r\n",
                "qs.total_logical_writes, qs.last_logical_writes,\r\n",
                "qs.total_worker_time,\r\n",
                "qs.last_worker_time,\r\n",
                "qs.total_elapsed_time/1000000 total_elapsed_time_in_S,\r\n",
                "qs.last_elapsed_time/1000000 last_elapsed_time_in_S,\r\n",
                "qs.last_execution_time,\r\n",
                "qp.query_plan\r\n",
                "FROM sys.dm_exec_query_stats qs\r\n",
                "CROSS APPLY sys.dm_exec_sql_text(qs.sql_handle) qt\r\n",
                "CROSS APPLY sys.dm_exec_query_plan(qs.plan_handle) qp\r\n",
                "ORDER BY qs.total_logical_reads DESC -- logical reads\r\n",
                "-- ORDER BY qs.total_logical_writes DESC -- logical writes\r\n",
                "-- ORDER BY qs.total_worker_time DESC -- CPU time"
            ],
            "metadata": {
                "azdata_cell_guid": "2e7761aa-b3c4-44a3-8f9b-5fb2dba84348",
                "tags": []
            },
            "outputs": [],
            "execution_count": null
        },
        {
            "cell_type": "markdown",
            "source": [
                "### Find Queries That Use Parallelism\r\n",
                ""
            ],
            "metadata": {
                "azdata_cell_guid": "3de210b3-bbcd-4543-bf25-176e525a177b"
            }
        },
        {
            "cell_type": "code",
            "source": [
                ";WITH XMLNAMESPACES\r\n",
                "(DEFAULT 'http://schemas.microsoft.com/sqlserver/2004/07/showplan')\r\n",
                "SELECT\r\n",
                "    query_plan AS CompleteQueryPlan\r\n",
                "    , n.value('(@StatementText)[1]', 'VARCHAR(4000)') AS StatementText\r\n",
                "    , n.value('(@StatementOptmLevel)[1]', 'VARCHAR(25)') AS StatementOptimizationLevel\r\n",
                "    , n.value('(@StatementSubTreeCost)[1]', 'VARCHAR(128)') AS StatementSubTreeCost\r\n",
                "    , n.query('.') AS ParallelSubTreeXML\r\n",
                "    , cp.usecounts\r\n",
                "    , cp.size_in_bytes\r\n",
                "FROM sys.dm_exec_cached_plans AS cp\r\n",
                "CROSS APPLY sys.dm_exec_query_plan(plan_handle) AS qp\r\n",
                "CROSS APPLY query_plan.nodes('/ShowPlanXML/BatchSequence/Batch/Statements/StmtSimple') AS qn(n)\r\n",
                "WHERE n.query('.').exist('//RelOp[@PhysicalOp=\"Parallelism\"]') = 1;"
            ],
            "metadata": {
                "azdata_cell_guid": "c43266ff-33fd-46c0-85da-6cafd823a521",
                "tags": []
            },
            "outputs": [],
            "execution_count": null
        },
        {
            "cell_type": "markdown",
            "source": [
                "### Calculate Average Subtree Cost of All Queries That Use Parallelism\r\n",
                "Helpful to determine the right value for Cost Threshold of Parallelism."
            ],
            "metadata": {
                "azdata_cell_guid": "9a9010fe-9a4d-4258-a821-2c069b37de60"
            }
        },
        {
            "cell_type": "code",
            "source": [
                "CREATE TABLE #SubtreeCost(StatementSubtreeCost DECIMAL(18,2));\r\n",
                ";WITH XMLNAMESPACES\r\n",
                "(DEFAULT 'http://schemas.microsoft.com/sqlserver/2004/07/showplan')\r\n",
                "INSERT INTO #SubtreeCost\r\n",
                "SELECT\r\n",
                "    CAST(n.value('(@StatementSubTreeCost)[1]', 'VARCHAR(128)') AS DECIMAL(18,2))\r\n",
                "FROM sys.dm_exec_cached_plans AS cp\r\n",
                "CROSS APPLY sys.dm_exec_query_plan(plan_handle) AS qp\r\n",
                "CROSS APPLY query_plan.nodes('/ShowPlanXML/BatchSequence/Batch/Statements/StmtSimple') AS qn(n)\r\n",
                "WHERE n.query('.').exist('//RelOp[@PhysicalOp=\"Parallelism\"]') = 1;\r\n",
                "SELECT AVG(StatementSubtreeCost) AS AverageSubtreeCost\r\n",
                "FROM #SubtreeCost;\r\n",
                " \r\n",
                "DROP TABLE #SubtreeCost;"
            ],
            "metadata": {
                "azdata_cell_guid": "f4d8f3ae-6eab-46b3-94be-7bf81f4857e7",
                "tags": []
            },
            "outputs": [],
            "execution_count": null
        },
        {
            "cell_type": "markdown",
            "source": [
                "### "
            ],
            "metadata": {
                "azdata_cell_guid": "6e5189dd-282c-409a-b493-1a76b176351c"
            }
        },
        {
            "cell_type": "markdown",
            "source": [
                "### "
            ],
            "metadata": {
                "azdata_cell_guid": "c0f8df3b-cda4-49d9-9728-6d74552183c8"
            }
        }
    ]
}